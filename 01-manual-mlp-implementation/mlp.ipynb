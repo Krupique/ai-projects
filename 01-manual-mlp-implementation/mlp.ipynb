{
 "cells": [
  {
   "cell_type": "markdown",
   "metadata": {},
   "source": [
    "# Precificação de Ativos Financeiros com Risco Condicional"
   ]
  },
  {
   "cell_type": "markdown",
   "metadata": {
    "ExecuteTime": {
     "end_time": "2020-02-09T03:20:33.737892Z",
     "start_time": "2020-02-09T03:20:33.729042Z"
    }
   },
   "source": [
    "## Definição do Problema"
   ]
  },
  {
   "cell_type": "markdown",
   "metadata": {},
   "source": [
    "## Instalando Pacotes Para Manipulação de Dados"
   ]
  },
  {
   "cell_type": "code",
   "execution_count": null,
   "metadata": {},
   "outputs": [],
   "source": [
    "# Para atualizar um pacote, execute o comando abaixo no terminal ou prompt de comando:\n",
    "# pip install -U nome_pacote\n",
    "\n",
    "# Para instalar a versão exata de um pacote, execute o comando abaixo no terminal ou prompt de comando:\n",
    "# !pip install nome_pacote==versão_desejada\n",
    "\n",
    "# Depois de instalar ou atualizar o pacote, reinicie o jupyter notebook.\n",
    "\n",
    "# Instala o pacote watermark. \n",
    "# Esse pacote é usado para gravar as versões de outros pacotes usados neste jupyter notebook.\n",
    "# !pip install -q -U watermark"
   ]
  },
  {
   "cell_type": "code",
   "execution_count": null,
   "metadata": {
    "ExecuteTime": {
     "end_time": "2020-02-09T13:01:34.226909Z",
     "start_time": "2020-02-09T13:01:33.528779Z"
    }
   },
   "outputs": [],
   "source": [
    "# Imports\n",
    "import scipy\n",
    "import numpy as np\n",
    "import pandas as pd\n",
    "import matplotlib.pyplot as plt\n",
    "import seaborn as sns\n",
    "import sklearn\n",
    "from sklearn.preprocessing import MinMaxScaler\n",
    "from sklearn.metrics import mean_squared_error"
   ]
  },
  {
   "cell_type": "code",
   "execution_count": null,
   "metadata": {},
   "outputs": [],
   "source": [
    "# Versões dos pacotes usados neste jupyter notebook\n",
    "%reload_ext watermark\n",
    "%watermark -a \"Henrique Krupck\" --iversions"
   ]
  },
  {
   "cell_type": "markdown",
   "metadata": {},
   "source": [
    "## Construindo a Arquitetura do Modelo\n",
    "\n",
    "http://www.deeplearningbook.com.br/ (Capítulos de 1 a 39)"
   ]
  },
  {
   "cell_type": "markdown",
   "metadata": {},
   "source": [
    "![title](imagens/imagem1.png)"
   ]
  },
  {
   "cell_type": "markdown",
   "metadata": {},
   "source": [
    "## Dense Layer (Camada Densa)"
   ]
  },
  {
   "cell_type": "markdown",
   "metadata": {},
   "source": [
    "A saída de cada camada é a transformação da saída das camadas anteriores. \n",
    "\n",
    "Estamos tentando maximizar a probabilidade de forma equivalente tentando minimizar a probabilidade logarítmica negativa. Assim, atualizamos os parâmetros da rede com derivadas parciais da função de perda com relação a cada parâmetro. Escalamos por uma taxa de aprendizagem para evitar que o gradiente salte e não se acomode nos mínimos locais mais baixos possíveis.\n",
    "\n",
    "Para obter os gradientes da função de perda, usamos a regra da cadeia (chain rule):\n",
    "\n",
    "$$\\frac{\\partial L}{\\partial x_i} = \\sum_j \\frac{\\partial L}{\\partial y_j}\\frac{\\partial y_j}{\\partial x_i}$$\n",
    "\n",
    "Uma vez que cada entrada de uma determinada camada é saída da anterior, podemos armazenar a derivada de entrada de cada camada e transferi-la para a camada anterior durante o backpropagation.\n",
    "\n",
    "Usando a regra da cadeia, obtemos as fórmulas necessárias que precisamos para atualizar os parâmetros da rede.\n",
    "\n",
    "Considerando a camada de saída, os gradientes de que precisamos:\n",
    "\n",
    "***Derivada em relação à entrada (input):***\n",
    "$$\\frac{\\partial L}{\\partial X} = \\frac{\\partial L}{\\partial Y} \\omega^T$$\n",
    "\n",
    "***Derivada em relação à matriz de peso:***\n",
    "$$\\frac{\\partial L}{\\partial \\omega} = X^T \\frac{\\partial L}{\\partial Y}$$\n",
    "\n",
    "***Derivada em relação ao vetor de polarização (bias):***\n",
    "$$\\frac{\\partial L}{\\partial B} = \\frac{\\partial L}{\\partial Y}$$"
   ]
  },
  {
   "cell_type": "markdown",
   "metadata": {},
   "source": [
    "A classe abaixo implementa uma camada totalmente conectada (Densa):\n",
    "\n",
    "- O método Forward refere-se à operação linear que produz saída que será transferida para a função de ativação que corresponderá à próxima camada.\n",
    " \n",
    " \n",
    "- O método backward refere-se a backpropagation, que toma a derivada da função de perda em relação à saída da camada como argumento, calcula as derivadas em relação à sua própria entrada e pesos, atualiza seus pesos e vieses e, em seguida, retorna a derivada da função de perda em relação à sua própria entrada"
   ]
  },
  {
   "cell_type": "code",
   "execution_count": null,
   "metadata": {
    "ExecuteTime": {
     "end_time": "2020-02-09T12:15:22.607478Z",
     "start_time": "2020-02-09T12:15:22.599630Z"
    }
   },
   "outputs": [],
   "source": [
    "# Classe para a camada densa\n",
    "class Dense:\n",
    "    \n",
    "    # Método construtor\n",
    "    def __init__(self, feat_size, out_size):\n",
    "        self.feat_size = feat_size\n",
    "        self.out_size = out_size\n",
    "        self.weights = (np.random.normal(0, 1, feat_size * out_size) * np.sqrt(2 / feat_size)).reshape(feat_size, out_size)\n",
    "        self.bias = np.random.rand(1, out_size) - 0.5\n",
    "\n",
    "    # Método da passada linear para frente\n",
    "    def forward(self, input_data):\n",
    "        self.input = input_data\n",
    "        self.output = np.dot(self.input, self.weights) + self.bias\n",
    "        return(self.output)\n",
    "\n",
    "    # Método da passada de volta (backpropagation)\n",
    "    def backward(self, output_der, lr): \n",
    "        input_der = np.dot(output_der, self.weights.T)\n",
    "        weight_der = np.dot(self.input.T.reshape(-1, 1), output_der)\n",
    "        self.weights -= lr * weight_der\n",
    "        self.bias -= lr * output_der\n",
    "        return(input_der)"
   ]
  },
  {
   "cell_type": "markdown",
   "metadata": {},
   "source": [
    "## Função de Ativação"
   ]
  },
  {
   "cell_type": "markdown",
   "metadata": {},
   "source": [
    "Em vez de implementar a função de ativação dentro da camada densa, a implementação como camada separada simplifica o backpropagation. Esta camada não atualizará nenhum parâmetro, apenas retornará a derivada da função de perda em relação à função de ativação para a camada anterior totalmente conectada.\n",
    "\n",
    "Na passagem para a frente, a camada de ativação pegará a saída da camada densa e a transferirá após a aplicação da função ReLu."
   ]
  },
  {
   "cell_type": "code",
   "execution_count": null,
   "metadata": {},
   "outputs": [],
   "source": [
    "# Função de ativação\n",
    "def relu(x):  \n",
    "    return(np.maximum(0, x))"
   ]
  },
  {
   "cell_type": "code",
   "execution_count": null,
   "metadata": {
    "ExecuteTime": {
     "end_time": "2020-02-09T12:16:24.489348Z",
     "start_time": "2020-02-09T12:16:24.485514Z"
    }
   },
   "outputs": [],
   "source": [
    "# Derivada da função de ativação\n",
    "def relu_prime(x):  \n",
    "    x[x > 0] = 1\n",
    "    x[x <= 0] = 0  \n",
    "    return x"
   ]
  },
  {
   "cell_type": "code",
   "execution_count": null,
   "metadata": {
    "ExecuteTime": {
     "end_time": "2020-02-09T12:18:07.212892Z",
     "start_time": "2020-02-09T12:18:07.208342Z"
    }
   },
   "outputs": [],
   "source": [
    "# Classe da camada de ativação\n",
    "class ActLayer:\n",
    "    \n",
    "    # Método construtor\n",
    "    def __init__(self, act, act_prime):\n",
    "        self.act = act\n",
    "        self.act_prime = act_prime\n",
    "\n",
    "    # Recebe a entrada (input) e retorna a saída da função de ativação\n",
    "    def forward(self, input_data):\n",
    "        self.input = input_data\n",
    "        self.output = self.act(self.input)\n",
    "        return(self.output)\n",
    "\n",
    "    # Observe que não estamos atualizando nenhum parâmetro aqui\n",
    "    # Usamos a taxa de aprendizagem como parâmetro porque definiremos o método de ajuste de uma forma \n",
    "    # que todas as camadas o exigirão.\n",
    "    def backward(self, output_der, lr):\n",
    "        return(self.act_prime(self.input) * output_der)"
   ]
  },
  {
   "cell_type": "markdown",
   "metadata": {},
   "source": [
    "## Função de Perda e Derivada\n",
    "\n",
    "Diversas funções de perda podem ser usadas dependendo se o modelo é de classificação ou regressão. Aqui usaremos a função mais comum em regressão, a MSE."
   ]
  },
  {
   "cell_type": "code",
   "execution_count": null,
   "metadata": {
    "ExecuteTime": {
     "end_time": "2020-02-09T12:19:10.410886Z",
     "start_time": "2020-02-09T12:19:10.407169Z"
    }
   },
   "outputs": [],
   "source": [
    "# Usaremos a Mean-Squared-Error como função de perda\n",
    "def mse(y_true, y_pred):\n",
    "    return(np.mean((y_pred - y_true)**2))"
   ]
  },
  {
   "cell_type": "code",
   "execution_count": null,
   "metadata": {},
   "outputs": [],
   "source": [
    "# Derivada da função de perda\n",
    "def mse_prime(y_true, y_pred):\n",
    "    return(2*(y_pred - y_true) / y_true.size)"
   ]
  },
  {
   "cell_type": "markdown",
   "metadata": {},
   "source": [
    "## Classe Final do Modelo\n",
    "\n",
    "Observe que fazemos o loop nas camadas em ordem reversa."
   ]
  },
  {
   "cell_type": "code",
   "execution_count": null,
   "metadata": {
    "ExecuteTime": {
     "end_time": "2020-02-09T12:26:10.393163Z",
     "start_time": "2020-02-09T12:26:10.365960Z"
    }
   },
   "outputs": [],
   "source": [
    "# Modelo\n",
    "class Network:\n",
    "    \n",
    "    # Método construtor\n",
    "    # Inicializa com a função de perda e sua derivada\n",
    "    def __init__(self, loss, loss_prime):  \n",
    "        self.layers = []  \n",
    "        self.loss = loss\n",
    "        self.loss_prime = loss_prime\n",
    "\n",
    "    # Método para adicionar camadas ao grafo computacional\n",
    "    def add(self, layer):\n",
    "        self.layers.append(layer)\n",
    "\n",
    "    # Implementando apenas forward-pass para predição\n",
    "    def predict(self, input_data):\n",
    "        \n",
    "        # Lista para o resultado\n",
    "        result = [] \n",
    "\n",
    "        for a in range(len(input_data)):\n",
    "            \n",
    "            # Camada de saída\n",
    "            layer_output = input_data[a]\n",
    "            \n",
    "            # Loop pelas camadas\n",
    "            for layer in self.layers:\n",
    "                \n",
    "                # Movendo vetores de camada para camada\n",
    "                layer_output = layer.forward(layer_output)\n",
    "                \n",
    "            result.append(layer_output)\n",
    "\n",
    "        return(result)\n",
    "\n",
    "    # Método de treinamento\n",
    "    def fit(self, X_train, y_train, epochs, lr):\n",
    "\n",
    "        # Número de iterações\n",
    "        for a in range(epochs):  \n",
    "            \n",
    "            # Inicializa a variável de cálculo do erro\n",
    "            err = 0\n",
    "\n",
    "            # Temos 1 passagem para a frente e para trás para cada ponto de dados \n",
    "            # Esse algoritmo de aprendizagem usa a Descida Estocástica do Gradiente\n",
    "            for j in range(len(X_train)):\n",
    "                \n",
    "                # Camada de saída\n",
    "                layer_output = X_train[j]\n",
    "                \n",
    "                # Loop pelas camadas\n",
    "                for layer in self.layers:\n",
    "                    layer_output = layer.forward(layer_output)\n",
    "\n",
    "                # Vamos guardar o erro e mostrar durante o treinamento\n",
    "                err += self.loss(y_train[j], layer_output)\n",
    "\n",
    "                # Observe que fazemos o loop nas camadas em ordem reversa.\n",
    "                # Inicialmente calculamos a derivada da perda com relação à previsão.\n",
    "                # Em seguida, a camada de saída irá calcular a derivada em relação à sua entrada\n",
    "                # e irá passar esta derivada de entrada para a camada anterior que corresponde à sua derivada de saída\n",
    "                # e essa camada repetirá o mesmo processo, passando sua derivada de entrada para a camada anterior.\n",
    "\n",
    "                # dL/dY_hat\n",
    "                gradient = self.loss_prime(y_train[j], layer_output)  \n",
    "                \n",
    "                # Este loop é a razão de termos dado lr à camada de ativação como argumento\n",
    "                for layer in reversed(self.layers):\n",
    "                    \n",
    "                    # Definindo gradiente para dY / dh_ {i + 1} da camada atual\n",
    "                    gradient = layer.backward(gradient, lr)\n",
    "\n",
    "            err /= len(X_train)\n",
    "            \n",
    "            print('Epoch %d/%d   Erro = %f' % (a + 1, epochs, err))"
   ]
  },
  {
   "cell_type": "markdown",
   "metadata": {},
   "source": [
    "## Vamos Testar o Modelo Resolvendo o XOR (Ou Exclusivo da Lógica Computacional)"
   ]
  },
  {
   "cell_type": "code",
   "execution_count": null,
   "metadata": {
    "ExecuteTime": {
     "end_time": "2020-02-09T12:37:11.848692Z",
     "start_time": "2020-02-09T12:37:10.901308Z"
    }
   },
   "outputs": [],
   "source": [
    "# Dados\n",
    "x_train = np.array([[[0, 0]], [[0, 1]], [[1, 0]], [[1, 1]]])\n",
    "y_train = np.array([[[0]], [[1]], [[1]], [[0]]])\n",
    "\n",
    "# Ajuste dos dados\n",
    "x_train = x_train.reshape(-1, 2)\n",
    "y_train = y_train.reshape(-1, 1)\n",
    "\n",
    "# Modelo\n",
    "modelo_xor = Network(mse, mse_prime)\n",
    "modelo_xor.add(Dense(2, 3))\n",
    "modelo_xor.add(ActLayer(relu, relu_prime))\n",
    "modelo_xor.add(Dense(3, 1))\n",
    "\n",
    "# Treinamento:\n",
    "modelo_xor.fit(x_train, y_train, epochs = 2000, lr = 0.01)\n",
    "\n",
    "# Teste\n",
    "y_pred = modelo_xor.predict(x_train)"
   ]
  },
  {
   "cell_type": "code",
   "execution_count": null,
   "metadata": {
    "ExecuteTime": {
     "end_time": "2020-02-09T12:39:33.611421Z",
     "start_time": "2020-02-09T12:39:33.606337Z"
    }
   },
   "outputs": [],
   "source": [
    "print(\"Valor Real:\", \"\\n\",\n",
    "      list(y_train.reshape(-1,)), \"\\n\",\n",
    "      \"------------\", \"\\n\",\n",
    "      \"Valor Previsto:\", \"\\n\",\n",
    "      [round(float(a)) for a in y_pred])"
   ]
  },
  {
   "cell_type": "markdown",
   "metadata": {},
   "source": [
    "## Precificação de Ativos Financeiros com Risco Condicional"
   ]
  },
  {
   "cell_type": "markdown",
   "metadata": {},
   "source": [
    "## Gerando Preços de Ações\n",
    "\n",
    "O modelo Black Scholes, também conhecido como modelo Black-Scholes-Merton (BSM), é um modelo matemático para precificar um contrato de opções (ações de empresas). Em particular, o modelo estima a variação ao longo do tempo de instrumentos financeiros. Ele pressupõe esses instrumentos (como ações ou futuros) terão uma distribuição lognormal de preços. Usando essa suposição e levando em consideração outras variáveis importantes, a equação deriva o preço de uma opção de compra.\n",
    "\n",
    "O modelo assume que o preço dos ativos fortemente negociados segue um movimento browniano geométrico com flutuação e volatilidade constantes. Quando aplicado a uma opção de ações, o modelo incorpora a variação constante do preço da ação, o valor do dinheiro no tempo, o preço de exercício da opção e o tempo para o vencimento da opção, criando assim um risco condicional para o investimento.\n",
    "\n",
    "Também chamado de Black-Scholes-Merton, foi o primeiro modelo amplamente utilizado para precificação de opções. É utilizado para calcular o valor teórico das opções usando os preços atuais das ações, dividendos esperados, preço de exercício da opção, taxas de juros esperadas, prazo de vencimento e expectativa volatilidade.\n",
    "\n",
    "A fórmula, desenvolvida por três economistas - Fischer Black, Myron Scholes e Robert Merton - é talvez o modelo de precificação de opções mais conhecido do mundo. A equação inicial foi introduzida no artigo de Black and Scholes de 1973, \"The Pricing of Options and Corporate Liability\", publicado no Journal of Political Economy. Black faleceu dois anos antes de Scholes e Merton receberem o Prêmio Nobel de Economia de 1997 por seu trabalho na descoberta de um novo método para determinar o valor dos derivados (o Prêmio Nobel não é concedido postumamente; no entanto, o comitê do Nobel reconheceu o papel de Black no modelo Black-Scholes).\n",
    "\n",
    "Referências:\n",
    "\n",
    "https://www.investopedia.com/terms/b/blackscholes.asp"
   ]
  },
  {
   "cell_type": "markdown",
   "metadata": {},
   "source": [
    "***Equação diferencial estocástica de Black e Scholes para preços de ações:***\n",
    "\n",
    "$$dS_t = S_0(\\sigma dB_t + rdt)$$\n",
    "\n",
    "***A solução é dada por:***\n",
    "\n",
    "$$S_t = S_0e^{\\sigma(B_t - B_0) + (r - \\frac{1}{2}\\sigma^2)t}$$\n",
    "\n",
    "***Discretizando:***\n",
    "\n",
    "$$log(S_t) - log(S_0) = \\sigma N(0, t) + (r - \\frac{1}{2}\\sigma^2)t$$\n",
    "\n",
    "***$B_t$*** : Brownian Motion\n",
    "\n",
    "***$S_i$*** : Stock price at time i\n",
    "\n",
    "***$r$*** : Risk Free rate\n",
    "\n",
    "***$\\sigma$*** : Predicted Volatility, taken as constant for simplecity"
   ]
  },
  {
   "cell_type": "markdown",
   "metadata": {},
   "source": [
    "***Equação diferencial parcial de Black e Scholes para preços de opções:***\n",
    "\n",
    "$$rF(t, S_t) = \\frac{\\partial F}{\\partial t}(t, S_t) + rS_t\\frac{\\partial F}{\\partial x}(t, S_t) + \\frac{1}{2}\\sigma^2 S_t^2\\frac{F}{x^2}(t, S_t)$$\n",
    "\n",
    "***A solução é dada por:***\n",
    "\n",
    "$$C_0 = S_0\\mathcal{N}(d_1) - e^{-rT}K\\mathcal{N}(d_2)$$\n",
    "\n",
    "A solução pode ser obtida de 2 maneiras: \n",
    "\n",
    "- Primeiro usando a abordagem da árvore bionomial, indo do caso discreto para o contínuo. \n",
    "\n",
    "- Segundo resolvendo o PDE por várias mudanças de variáveis, então obtemos a equação.\n",
    "\n",
    "Mais detalhes, consulte:\n",
    "\n",
    "Primeiro caso: Cox-Rubinstein, OPTION PRICING: A SIMPLIFIED APPROACH\n",
    "\n",
    "Segundo caso: Black-Scholes The Pricing of options and Corporate Liabilities."
   ]
  },
  {
   "cell_type": "markdown",
   "metadata": {},
   "source": [
    "## Prepara as variáveis"
   ]
  },
  {
   "cell_type": "code",
   "execution_count": null,
   "metadata": {},
   "outputs": [],
   "source": [
    "# Volatility (standard deviation), sigma de SDE e PDE\n",
    "vol = 0.17 "
   ]
  },
  {
   "cell_type": "code",
   "execution_count": null,
   "metadata": {},
   "outputs": [],
   "source": [
    "# Maturity\n",
    "T = 1/2 "
   ]
  },
  {
   "cell_type": "code",
   "execution_count": null,
   "metadata": {},
   "outputs": [],
   "source": [
    "#  Número de etapas que usamos para discretizar o processo acima\n",
    "n = 1000"
   ]
  },
  {
   "cell_type": "code",
   "execution_count": null,
   "metadata": {},
   "outputs": [],
   "source": [
    "# O preço inicial do estoque corresponde a S_0 nas funções acima\n",
    "s_0 = 100  "
   ]
  },
  {
   "cell_type": "code",
   "execution_count": null,
   "metadata": {},
   "outputs": [],
   "source": [
    "#  Taxa livre de risco, termo que deriva de SDE -> r\n",
    "r = 0.05  "
   ]
  },
  {
   "cell_type": "code",
   "execution_count": null,
   "metadata": {
    "ExecuteTime": {
     "end_time": "2020-02-09T13:07:31.260697Z",
     "start_time": "2020-02-09T13:07:31.257420Z"
    }
   },
   "outputs": [],
   "source": [
    "# Preço de exercício da opção -> K\n",
    "k = 100 "
   ]
  },
  {
   "cell_type": "markdown",
   "metadata": {},
   "source": [
    "## Funções de Cálculo Para Geração de Dados"
   ]
  },
  {
   "cell_type": "code",
   "execution_count": null,
   "metadata": {
    "ExecuteTime": {
     "end_time": "2020-02-09T13:07:31.630165Z",
     "start_time": "2020-02-09T13:07:31.624321Z"
    }
   },
   "outputs": [],
   "source": [
    "def calculate_spot(prev, sigma, r, step, random):\n",
    "    return(prev + (sigma*prev*random) + (r*prev*step))"
   ]
  },
  {
   "cell_type": "code",
   "execution_count": null,
   "metadata": {},
   "outputs": [],
   "source": [
    "def sim_spot(s0, r, steps, maturity, vol):\n",
    "    delta_t = T/steps\n",
    "    time = np.round(np.arange(0, maturity+delta_t, delta_t), 4)  \n",
    "    prices = [s0]\n",
    "    normal_dist = np.random.normal(0, np.sqrt(delta_t), 10000)\n",
    "    for a in range(steps):\n",
    "        prices.append(calculate_spot(prices[-1], vol, r, delta_t, normal_dist[a]))\n",
    "    return(prices)"
   ]
  },
  {
   "cell_type": "code",
   "execution_count": null,
   "metadata": {
    "ExecuteTime": {
     "end_time": "2020-02-09T13:08:47.622878Z",
     "start_time": "2020-02-09T13:08:47.606418Z"
    }
   },
   "outputs": [],
   "source": [
    "# Gerando 5 caminhos diferentes para testar as funções\n",
    "# Vamos usar apenas 1 caminho no treinamento de rede\n",
    "sims = pd.DataFrame()\n",
    "for a in range(5):\n",
    "    sims[a] = sim_spot(s_0, r, n, T, vol)"
   ]
  },
  {
   "cell_type": "code",
   "execution_count": null,
   "metadata": {},
   "outputs": [],
   "source": [
    "# Valores para simulações\n",
    "sims.columns = [\"Sim_1\", \"Sim_2\", \"Sim_3\", \"Sim_4\", \"Sim_5\"]\n",
    "sims.index = np.round(np.arange(0, 0.5 + (0.5 / 1000), 0.5 / 1000), 4)"
   ]
  },
  {
   "cell_type": "code",
   "execution_count": null,
   "metadata": {
    "ExecuteTime": {
     "end_time": "2020-02-09T13:24:45.734179Z",
     "start_time": "2020-02-09T13:24:43.797187Z"
    }
   },
   "outputs": [],
   "source": [
    "sns.set(style = \"whitegrid\", font_scale = 2.5)\n",
    "plt.figure(figsize = (40, 18))\n",
    "ax = sns.lineplot(data = sims, palette = \"bright\", linewidth = 2.7)\n",
    "ax.set(xlabel = 'Passos', ylabel = 'Preços dos Ativos', title = \"Simulações\")"
   ]
  },
  {
   "cell_type": "markdown",
   "metadata": {},
   "source": [
    "## Preparando os Preços Finais"
   ]
  },
  {
   "cell_type": "code",
   "execution_count": null,
   "metadata": {
    "ExecuteTime": {
     "end_time": "2020-02-09T13:22:23.704025Z",
     "start_time": "2020-02-09T13:22:23.697539Z"
    }
   },
   "outputs": [],
   "source": [
    "def d1(s, k, r, t, T, vol): \n",
    "    if T != t:\n",
    "        nomin = np.log(s/k) + (r + 0.5*(vol**2))*(T-t)\n",
    "        denom = vol*np.sqrt((T-t))\n",
    "        return(nomin/denom)\n",
    "    else:\n",
    "        None\n",
    "\n",
    "\n",
    "def d2(s, k, r, t, T, vol): \n",
    "    if T != t:\n",
    "        nomin = np.log(s/k) + (r - 0.5*(vol**2))*(T-t)\n",
    "        denom = vol*np.sqrt((T-t))\n",
    "        return(nomin/denom)\n",
    "    else:\n",
    "        None\n",
    "\n",
    "\n",
    "def call(d1, d2, k, r, T, t, s):\n",
    "    return(s*scipy.stats.norm.cdf(d1) - k*np.exp(-r*(T-t))*scipy.stats.norm.cdf(d2))"
   ]
  },
  {
   "cell_type": "code",
   "execution_count": null,
   "metadata": {
    "ExecuteTime": {
     "end_time": "2020-02-09T13:22:52.334263Z",
     "start_time": "2020-02-09T13:22:52.088470Z"
    }
   },
   "outputs": [],
   "source": [
    "call_prices = []\n",
    "maturity = []\n",
    "for (a, b) in zip(sims[\"Sim_1\"], sims.index):\n",
    "    if b != T:\n",
    "        d1_ = d1(a, k, r, b, T, vol)\n",
    "        d2_ = d2(a, k, r, b, T, vol)\n",
    "        call_prices.append(call(d1_, d2_, k, r, T, b, a))\n",
    "        maturity.append((T-b))\n",
    "    else:\n",
    "        call_prices.append(max(a-k, 0))\n",
    "        maturity.append(0)"
   ]
  },
  {
   "cell_type": "code",
   "execution_count": null,
   "metadata": {
    "ExecuteTime": {
     "end_time": "2020-02-09T13:23:29.930723Z",
     "start_time": "2020-02-09T13:23:29.919815Z"
    }
   },
   "outputs": [],
   "source": [
    "# Dataframe dos preços\n",
    "opt_price = pd.DataFrame(call_prices, sims.index)\n",
    "opt_price = opt_price.rename(columns = {0: \"Sim_1_Call\"})\n",
    "opt_price = pd.concat([opt_price, sims[\"Sim_1\"]], axis = 1)\n",
    "min_max = MinMaxScaler(feature_range=(min(call_prices), max(call_prices)))\n",
    "opt_price[\"Sim_1_scaled\"] = min_max.fit_transform(opt_price[\"Sim_1\"].values.reshape(-1, 1))\n",
    "opt_price.index = pd.date_range(start = '01/01/2018', end = '06/01/2018', periods = 1001)"
   ]
  },
  {
   "cell_type": "code",
   "execution_count": null,
   "metadata": {
    "ExecuteTime": {
     "end_time": "2020-02-09T13:26:27.521833Z",
     "start_time": "2020-02-09T13:26:26.025949Z"
    }
   },
   "outputs": [],
   "source": [
    "sns.set(style = \"whitegrid\", font_scale=2.5)\n",
    "plt.figure(figsize=(40, 18))\n",
    "ax = sns.lineplot(data = opt_price[[\"Sim_1_scaled\", \"Sim_1_Call\"]], palette = \"bright\", linewidth = 2.7)\n",
    "ax.set(xlabel = 'Data', ylabel = 'Preços dos Ativos', title = \"Preço da Ação - Valor de Venda da Ação\")"
   ]
  },
  {
   "cell_type": "markdown",
   "metadata": {},
   "source": [
    "## Preparação de Dados Para Treinamento"
   ]
  },
  {
   "cell_type": "code",
   "execution_count": null,
   "metadata": {
    "ExecuteTime": {
     "end_time": "2020-02-09T13:29:28.248315Z",
     "start_time": "2020-02-09T13:29:28.242297Z"
    }
   },
   "outputs": [],
   "source": [
    "# Dataframe final\n",
    "opt_price[\"Maturity\"] = maturity\n",
    "opt_price[\"Strike\"] = k\n",
    "opt_price[\"Risk_Free\"] = r\n",
    "opt_price[\"Volatility\"] = vol\n",
    "model_data = opt_price.drop([\"Sim_1_scaled\"], axis = 1)"
   ]
  },
  {
   "cell_type": "code",
   "execution_count": null,
   "metadata": {},
   "outputs": [],
   "source": [
    "# Visualiza\n",
    "model_data.head()"
   ]
  },
  {
   "cell_type": "code",
   "execution_count": null,
   "metadata": {
    "ExecuteTime": {
     "end_time": "2020-02-09T13:33:56.730840Z",
     "start_time": "2020-02-09T13:33:56.726866Z"
    }
   },
   "outputs": [],
   "source": [
    "# Dados de treino e teste\n",
    "train_data = model_data.iloc[:round(len(model_data) * 0.8)]  \n",
    "test_data = model_data.iloc[len(train_data):]"
   ]
  },
  {
   "cell_type": "code",
   "execution_count": null,
   "metadata": {
    "ExecuteTime": {
     "end_time": "2020-02-09T13:37:43.764899Z",
     "start_time": "2020-02-09T13:37:43.756280Z"
    }
   },
   "outputs": [],
   "source": [
    "X_train = train_data.drop([\"Sim_1_Call\"], axis = 1).values\n",
    "y_train = train_data[\"Sim_1_Call\"].values\n",
    "\n",
    "X_test = test_data.drop([\"Sim_1_Call\"], axis = 1).values\n",
    "y_test = test_data[\"Sim_1_Call\"].values\n",
    "\n",
    "min_max = MinMaxScaler()\n",
    "\n",
    "X_train = min_max.fit_transform(X_train)\n",
    "X_test = min_max.transform(X_test)\n",
    "\n",
    "print(\"X_train shape:\", X_train.shape, \"\\n\",\n",
    "      \"y_train shape:\", y_train.shape, \"\\n\",\n",
    "      \"X_test shape:\", X_test.shape, \"\\n\",\n",
    "      \"y_test shape:\", y_test.shape)"
   ]
  },
  {
   "cell_type": "markdown",
   "metadata": {},
   "source": [
    "## Treinamento"
   ]
  },
  {
   "cell_type": "markdown",
   "metadata": {},
   "source": [
    "***Treinando Por 10 Epochs***"
   ]
  },
  {
   "cell_type": "code",
   "execution_count": null,
   "metadata": {
    "ExecuteTime": {
     "end_time": "2020-02-09T17:34:30.737849Z",
     "start_time": "2020-02-09T17:34:26.224596Z"
    }
   },
   "outputs": [],
   "source": [
    "%%time\n",
    "\n",
    "# Treinando Por 10 Epochs\n",
    "\n",
    "# Modelo\n",
    "model = Network(mse, mse_prime)\n",
    "model.add(Dense(5, 200))\n",
    "model.add(ActLayer(relu, relu_prime))\n",
    "model.add(Dense(200, 200))\n",
    "model.add(ActLayer(relu, relu_prime))\n",
    "model.add(Dense(200, 200))\n",
    "model.add(ActLayer(relu, relu_prime))\n",
    "model.add(Dense(200, 200))\n",
    "model.add(ActLayer(relu, relu_prime))\n",
    "model.add(Dense(200, 1))\n",
    "\n",
    "# Treinamento\n",
    "model.fit(X_train, y_train, epochs = 10, lr = 0.001)\n",
    "\n",
    "# Previsões\n",
    "y_pred_10 = model.predict(X_test)\n",
    "y_pred_10 = [float(a) for a in y_pred_10]"
   ]
  },
  {
   "cell_type": "markdown",
   "metadata": {},
   "source": [
    "***Treinando Por 100 Epochs***"
   ]
  },
  {
   "cell_type": "code",
   "execution_count": null,
   "metadata": {
    "ExecuteTime": {
     "end_time": "2020-02-09T17:35:38.246011Z",
     "start_time": "2020-02-09T17:34:51.487260Z"
    }
   },
   "outputs": [],
   "source": [
    "%%time\n",
    "\n",
    "# Treinando Por 100 Epochs\n",
    "\n",
    "# Modelo\n",
    "model = Network(mse, mse_prime)\n",
    "model.add(Dense(5, 200))\n",
    "model.add(ActLayer(relu, relu_prime))\n",
    "model.add(Dense(200, 200))\n",
    "model.add(ActLayer(relu, relu_prime))\n",
    "model.add(Dense(200, 200))\n",
    "model.add(ActLayer(relu, relu_prime))\n",
    "model.add(Dense(200, 200))\n",
    "model.add(ActLayer(relu, relu_prime))\n",
    "model.add(Dense(200, 1))\n",
    "\n",
    "# Treinamento\n",
    "model.fit(X_train, y_train, epochs = 100, lr = 0.001)\n",
    "\n",
    "# Previsões\n",
    "y_pred_100 = model.predict(X_test)\n",
    "y_pred_100 = [float(a) for a in y_pred_100]"
   ]
  },
  {
   "cell_type": "markdown",
   "metadata": {},
   "source": [
    "***Treinando Por 200 Epochs***"
   ]
  },
  {
   "cell_type": "code",
   "execution_count": null,
   "metadata": {
    "ExecuteTime": {
     "end_time": "2020-02-09T17:37:33.912069Z",
     "start_time": "2020-02-09T17:35:58.498302Z"
    }
   },
   "outputs": [],
   "source": [
    "%%time\n",
    "\n",
    "# Treinando Por 200 Epochs\n",
    "\n",
    "# Modelo\n",
    "model = Network(mse, mse_prime)\n",
    "model.add(Dense(5, 200))\n",
    "model.add(ActLayer(relu, relu_prime))\n",
    "model.add(Dense(200, 200))\n",
    "model.add(ActLayer(relu, relu_prime))\n",
    "model.add(Dense(200, 200))\n",
    "model.add(ActLayer(relu, relu_prime))\n",
    "model.add(Dense(200, 200))\n",
    "model.add(ActLayer(relu, relu_prime))\n",
    "model.add(Dense(200, 1))\n",
    "\n",
    "# Treinamento\n",
    "model.fit(X_train, y_train, epochs = 200, lr = 0.001)\n",
    "\n",
    "# Previsões\n",
    "y_pred_200 = model.predict(X_test)\n",
    "y_pred_200 = [float(a) for a in y_pred_200]"
   ]
  },
  {
   "cell_type": "markdown",
   "metadata": {},
   "source": [
    "***Treinando Por 1000 Epochs***"
   ]
  },
  {
   "cell_type": "code",
   "execution_count": null,
   "metadata": {
    "ExecuteTime": {
     "end_time": "2020-02-09T17:46:55.304033Z",
     "start_time": "2020-02-09T17:38:33.501752Z"
    }
   },
   "outputs": [],
   "source": [
    "%%time\n",
    "\n",
    "# Treinando Por 1000 Epochs\n",
    "\n",
    "# Modelo\n",
    "model = Network(mse, mse_prime)\n",
    "model.add(Dense(5, 200))\n",
    "model.add(ActLayer(relu, relu_prime))\n",
    "model.add(Dense(200, 200))\n",
    "model.add(ActLayer(relu, relu_prime))\n",
    "model.add(Dense(200, 200))\n",
    "model.add(ActLayer(relu, relu_prime))\n",
    "model.add(Dense(200, 200))\n",
    "model.add(ActLayer(relu, relu_prime))\n",
    "model.add(Dense(200, 1))\n",
    "\n",
    "# Treinamento\n",
    "model.fit(X_train, y_train, epochs = 1000, lr = 0.001)\n",
    "\n",
    "# Previsões\n",
    "y_pred_1k = model.predict(X_test)\n",
    "y_pred_1k = [float(a) for a in y_pred_1k]"
   ]
  },
  {
   "cell_type": "markdown",
   "metadata": {},
   "source": [
    "***Treinando Por 5000 Epochs***"
   ]
  },
  {
   "cell_type": "code",
   "execution_count": null,
   "metadata": {
    "ExecuteTime": {
     "end_time": "2020-02-09T16:31:56.941975Z",
     "start_time": "2020-02-09T15:47:00.676612Z"
    }
   },
   "outputs": [],
   "source": [
    "%%time\n",
    "\n",
    "# Treinando Por 5000 Epochs\n",
    "\n",
    "# Modelo\n",
    "model = Network(mse, mse_prime)\n",
    "model.add(Dense(5, 200))\n",
    "model.add(ActLayer(relu, relu_prime))\n",
    "model.add(Dense(200, 200))\n",
    "model.add(ActLayer(relu, relu_prime))\n",
    "model.add(Dense(200, 200))\n",
    "model.add(ActLayer(relu, relu_prime))\n",
    "model.add(Dense(200, 200))\n",
    "model.add(ActLayer(relu, relu_prime))\n",
    "model.add(Dense(200, 1))\n",
    "\n",
    "# Treinamento\n",
    "model.fit(X_train, y_train, epochs = 5000, lr = 0.001)\n",
    "\n",
    "# Previsões\n",
    "y_pred_5k = model.predict(X_test)\n",
    "y_pred_5k = [float(a) for a in y_pred_5k]"
   ]
  },
  {
   "cell_type": "markdown",
   "metadata": {},
   "source": [
    "## Testando e Comparando os Resultados"
   ]
  },
  {
   "cell_type": "code",
   "execution_count": null,
   "metadata": {
    "ExecuteTime": {
     "end_time": "2020-02-09T17:47:30.648644Z",
     "start_time": "2020-02-09T17:47:30.644741Z"
    }
   },
   "outputs": [],
   "source": [
    "# Ajusta o shape das perevisões para cada treinamento\n",
    "y_pred_10 = np.array(y_pred_10).reshape(-1,)\n",
    "y_pred_100 = np.array(y_pred_100).reshape(-1,)\n",
    "y_pred_200 = np.array(y_pred_200).reshape(-1,)\n",
    "y_pred_1k = np.array(y_pred_1k).reshape(-1,)\n",
    "# y_pred_5k = np.array(y_pred_5k).reshape(-1,)"
   ]
  },
  {
   "cell_type": "code",
   "execution_count": null,
   "metadata": {
    "ExecuteTime": {
     "end_time": "2020-02-09T17:51:22.241696Z",
     "start_time": "2020-02-09T17:51:22.237461Z"
    }
   },
   "outputs": [],
   "source": [
    "# Dataframe das previsões\n",
    "all_preds = pd.DataFrame({\"Valor_Real\": y_test,\n",
    "                          \"10 Epochs\": y_pred_10,\n",
    "                          \"100 Epochs\": y_pred_100,\n",
    "                          \"200 Epochs\": y_pred_200,\n",
    "                          \"1000 Epochs\": y_pred_1k,\n",
    "                        #   \"5000 Epochs\": y_pred_5k\n",
    "                          }, \n",
    "                          index = test_data.index)"
   ]
  },
  {
   "cell_type": "code",
   "execution_count": null,
   "metadata": {
    "ExecuteTime": {
     "end_time": "2020-02-09T18:01:44.650890Z",
     "start_time": "2020-02-09T18:01:43.258696Z"
    }
   },
   "outputs": [],
   "source": [
    "# Plot\n",
    "plt.figure(figsize = (40, 18))\n",
    "ax = sns.lineplot(data = all_preds[[\"Valor_Real\", \"10 Epochs\"]], palette = \"bright\", linewidth = 2.5)\n",
    "ax.set(xlabel = 'Data', \n",
    "       ylabel = 'Preço do Ativo', \n",
    "       title = f'Após 10 Epochs,  MSE:{round(mean_squared_error(all_preds.Valor_Real, all_preds[\"10 Epochs\"]), 3)}')\n",
    "\n",
    "plt.show()"
   ]
  },
  {
   "cell_type": "code",
   "execution_count": null,
   "metadata": {},
   "outputs": [],
   "source": [
    "# Plot\n",
    "plt.figure(figsize = (40, 18))\n",
    "ax = sns.lineplot(data = all_preds[[\"Valor_Real\", \"100 Epochs\"]], palette = \"bright\", linewidth = 2.5)\n",
    "ax.set(xlabel = 'Data', \n",
    "       ylabel = 'Preço do Ativo', \n",
    "       title = f'Após 100 Epochs,  MSE:{round(mean_squared_error(all_preds.Valor_Real, all_preds[\"100 Epochs\"]), 3)}')\n",
    "plt.show()"
   ]
  },
  {
   "cell_type": "code",
   "execution_count": null,
   "metadata": {
    "ExecuteTime": {
     "end_time": "2020-02-09T18:02:05.951147Z",
     "start_time": "2020-02-09T18:02:04.569469Z"
    }
   },
   "outputs": [],
   "source": [
    "# Plot\n",
    "plt.figure(figsize = (40, 18))\n",
    "ax = sns.lineplot(data = all_preds[[\"Valor_Real\", \"200 Epochs\"]], palette = \"bright\", linewidth = 2.5)\n",
    "ax.set(xlabel = 'Data', \n",
    "       ylabel = 'Preço do Ativo', \n",
    "       title = f'Após 200 Epochs,  MSE:{round(mean_squared_error(all_preds.Valor_Real, all_preds[\"200 Epochs\"]), 3)}')\n",
    "\n",
    "plt.show()"
   ]
  },
  {
   "cell_type": "code",
   "execution_count": null,
   "metadata": {
    "ExecuteTime": {
     "end_time": "2020-02-09T18:02:07.458552Z",
     "start_time": "2020-02-09T18:02:06.089249Z"
    }
   },
   "outputs": [],
   "source": [
    "# Plot\n",
    "plt.figure(figsize = (40, 18))\n",
    "ax = sns.lineplot(data = all_preds[[\"Valor_Real\", \"1000 Epochs\"]], palette = \"bright\", linewidth = 2.5)\n",
    "ax.set(xlabel = 'Data', \n",
    "       ylabel = 'Preço do Ativo', \n",
    "       title = f'Após 1000 Epochs,  MSE:{round(mean_squared_error(all_preds.Valor_Real, all_preds[\"1000 Epochs\"]), 3)}')\n",
    "\n",
    "plt.show()"
   ]
  },
  {
   "cell_type": "code",
   "execution_count": null,
   "metadata": {
    "ExecuteTime": {
     "end_time": "2020-02-09T18:02:08.970731Z",
     "start_time": "2020-02-09T18:02:07.596453Z"
    }
   },
   "outputs": [],
   "source": [
    "# Plot\n",
    "plt.figure(figsize = (40, 18))\n",
    "ax = sns.lineplot(data = all_preds[[\"Valor_Real\", \"5000 Epochs\"]], palette = \"bright\", linewidth = 2.5)\n",
    "ax.set(xlabel = 'Data', \n",
    "       ylabel = 'Preço do Ativo', \n",
    "       title = f'Após 5000 Epochs,  MSE:{round(mean_squared_error(all_preds.Valor_Real, all_preds[\"5000 Epochs\"]), 3)}')\n",
    "\n",
    "plt.show()"
   ]
  },
  {
   "cell_type": "markdown",
   "metadata": {},
   "source": [
    "## Conclusão\n",
    "\n",
    "Treinar o modelo por poucas epochs ou por epochs demais afeta negativamente a performance do modelo. A construção de um modelo equilibrado depende do ponto ideal de treinamento, o que requer experimentação."
   ]
  },
  {
   "cell_type": "markdown",
   "metadata": {},
   "source": [
    "# Fim"
   ]
  }
 ],
 "metadata": {
  "hide_input": false,
  "kernelspec": {
   "display_name": "Python 3",
   "language": "python",
   "name": "python3"
  },
  "language_info": {
   "codemirror_mode": {
    "name": "ipython",
    "version": 3
   },
   "file_extension": ".py",
   "mimetype": "text/x-python",
   "name": "python",
   "nbconvert_exporter": "python",
   "pygments_lexer": "ipython3",
   "version": "3.11.5"
  },
  "toc": {
   "base_numbering": 1,
   "nav_menu": {},
   "number_sections": true,
   "sideBar": true,
   "skip_h1_title": false,
   "title_cell": "Table of Contents",
   "title_sidebar": "Contents",
   "toc_cell": false,
   "toc_position": {},
   "toc_section_display": true,
   "toc_window_display": false
  },
  "varInspector": {
   "cols": {
    "lenName": 16,
    "lenType": 16,
    "lenVar": 40
   },
   "kernels_config": {
    "python": {
     "delete_cmd_postfix": "",
     "delete_cmd_prefix": "del ",
     "library": "var_list.py",
     "varRefreshCmd": "print(var_dic_list())"
    },
    "r": {
     "delete_cmd_postfix": ") ",
     "delete_cmd_prefix": "rm(",
     "library": "var_list.r",
     "varRefreshCmd": "cat(var_dic_list()) "
    }
   },
   "types_to_exclude": [
    "module",
    "function",
    "builtin_function_or_method",
    "instance",
    "_Feature"
   ],
   "window_display": false
  }
 },
 "nbformat": 4,
 "nbformat_minor": 2
}
