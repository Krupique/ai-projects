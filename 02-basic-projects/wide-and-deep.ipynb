{
 "cells": [
  {
   "cell_type": "markdown",
   "metadata": {},
   "source": [
    "# Wide and Deep model"
   ]
  },
  {
   "cell_type": "code",
   "execution_count": 2,
   "metadata": {},
   "outputs": [
    {
     "name": "stdout",
     "output_type": "stream",
     "text": [
      "WARNING:tensorflow:From C:\\Users\\krupc\\AppData\\Roaming\\Python\\Python311\\site-packages\\keras\\src\\losses.py:2976: The name tf.losses.sparse_softmax_cross_entropy is deprecated. Please use tf.compat.v1.losses.sparse_softmax_cross_entropy instead.\n",
      "\n"
     ]
    }
   ],
   "source": [
    "import sys\n",
    "import pandas as pd\n",
    "import numpy as np\n",
    "\n",
    "import tensorflow as tf\n",
    "import sklearn\n",
    "\n",
    "import matplotlib as mpl\n",
    "import matplotlib.pyplot as plt\n",
    "import seaborn as sns\n",
    "from sklearn.datasets import fetch_california_housing\n",
    "from sklearn.model_selection import train_test_split\n",
    "from sklearn.preprocessing import StandardScaler\n",
    "\n",
    "import warnings\n",
    "warnings.filterwarnings(\"ignore\")\n",
    "pd.set_option('display.max_columns', None)\n",
    "sns.set_style(\"darkgrid\", {\"axes.facecolor\": \".95\"})\n",
    "sns.set_context(\"paper\")"
   ]
  },
  {
   "cell_type": "code",
   "execution_count": 3,
   "metadata": {},
   "outputs": [],
   "source": [
    "housing = fetch_california_housing()\n",
    "\n",
    "X_train_full, X_test, y_train_full, y_test = train_test_split(housing.data, housing.target, random_state=42)\n",
    "X_train, X_valid, y_train, y_valid = train_test_split(X_train_full, y_train_full, random_state=42)\n",
    "\n",
    "scaler = StandardScaler()\n",
    "X_train = scaler.fit_transform(X_train)\n",
    "X_valid = scaler.transform(X_valid)\n",
    "X_test = scaler.transform(X_test)"
   ]
  },
  {
   "cell_type": "markdown",
   "metadata": {},
   "source": [
    "# Model 1"
   ]
  },
  {
   "cell_type": "markdown",
   "metadata": {},
   "source": [
    "<img src=\"images/wide-and-deep-01.png\" width=\"400px\">"
   ]
  },
  {
   "cell_type": "code",
   "execution_count": 5,
   "metadata": {},
   "outputs": [
    {
     "name": "stdout",
     "output_type": "stream",
     "text": [
      "WARNING:tensorflow:From C:\\Users\\krupc\\AppData\\Roaming\\Python\\Python311\\site-packages\\keras\\src\\backend.py:1398: The name tf.executing_eagerly_outside_functions is deprecated. Please use tf.compat.v1.executing_eagerly_outside_functions instead.\n",
      "\n"
     ]
    }
   ],
   "source": [
    "input_A = tf.keras.layers.Input(shape=[5], name=\"wide_input\")\n",
    "input_B = tf.keras.layers.Input(shape=[6], name=\"deep_input\")\n",
    "hidden1 = tf.keras.layers.Dense(30, activation=\"relu\")(input_B)\n",
    "hidden2 = tf.keras.layers.Dense(30, activation=\"relu\")(hidden1)\n",
    "concat = tf.keras.layers.concatenate([input_A, hidden2])\n",
    "output = tf.keras.layers.Dense(1, name=\"output\")(concat)\n",
    "model = tf.keras.models.Model(inputs=[input_A, input_B], outputs=[output])"
   ]
  },
  {
   "cell_type": "code",
   "execution_count": 12,
   "metadata": {},
   "outputs": [
    {
     "name": "stdout",
     "output_type": "stream",
     "text": [
      "Epoch 1/20\n",
      "363/363 [==============================] - 0s 888us/step - loss: 0.4312 - val_loss: 0.4177\n",
      "Epoch 2/20\n",
      "363/363 [==============================] - 0s 718us/step - loss: 0.4289 - val_loss: 0.4109\n",
      "Epoch 3/20\n",
      "363/363 [==============================] - 0s 722us/step - loss: 0.4264 - val_loss: 0.4190\n",
      "Epoch 4/20\n",
      "363/363 [==============================] - 0s 725us/step - loss: 0.4241 - val_loss: 0.4123\n",
      "Epoch 5/20\n",
      "363/363 [==============================] - 0s 737us/step - loss: 0.4222 - val_loss: 0.4104\n",
      "Epoch 6/20\n",
      "363/363 [==============================] - 0s 743us/step - loss: 0.4203 - val_loss: 0.4157\n",
      "Epoch 7/20\n",
      "363/363 [==============================] - 0s 746us/step - loss: 0.4179 - val_loss: 0.4139\n",
      "Epoch 8/20\n",
      "363/363 [==============================] - 0s 740us/step - loss: 0.4165 - val_loss: 0.3995\n",
      "Epoch 9/20\n",
      "363/363 [==============================] - 0s 747us/step - loss: 0.4149 - val_loss: 0.3970\n",
      "Epoch 10/20\n",
      "363/363 [==============================] - 0s 730us/step - loss: 0.4136 - val_loss: 0.3967\n",
      "Epoch 11/20\n",
      "363/363 [==============================] - 0s 722us/step - loss: 0.4116 - val_loss: 0.4084\n",
      "Epoch 12/20\n",
      "363/363 [==============================] - 0s 714us/step - loss: 0.4103 - val_loss: 0.3993\n",
      "Epoch 13/20\n",
      "363/363 [==============================] - 0s 724us/step - loss: 0.4086 - val_loss: 0.3890\n",
      "Epoch 14/20\n",
      "363/363 [==============================] - 0s 738us/step - loss: 0.4073 - val_loss: 0.3958\n",
      "Epoch 15/20\n",
      "363/363 [==============================] - 0s 714us/step - loss: 0.4060 - val_loss: 0.3847\n",
      "Epoch 16/20\n",
      "363/363 [==============================] - 0s 708us/step - loss: 0.4045 - val_loss: 0.3980\n",
      "Epoch 17/20\n",
      "363/363 [==============================] - 0s 714us/step - loss: 0.4033 - val_loss: 0.4041\n",
      "Epoch 18/20\n",
      "363/363 [==============================] - 0s 730us/step - loss: 0.4022 - val_loss: 0.3823\n",
      "Epoch 19/20\n",
      "363/363 [==============================] - 0s 771us/step - loss: 0.4009 - val_loss: 0.3889\n",
      "Epoch 20/20\n",
      "363/363 [==============================] - 0s 718us/step - loss: 0.4001 - val_loss: 0.3813\n",
      "162/162 [==============================] - 0s 495us/step - loss: 0.3951\n",
      "162/162 [==============================] - 0s 474us/step\n"
     ]
    }
   ],
   "source": [
    "model.compile(loss=\"mse\", optimizer=tf.keras.optimizers.SGD(learning_rate=1e-3))\n",
    "\n",
    "X_train_A, X_train_B = X_train[:, :5], X_train[:, 2:]\n",
    "X_valid_A, X_valid_B = X_valid[:, :5], X_valid[:, 2:]\n",
    "X_test_A, X_test_B = X_test[:, :5], X_test[:, 2:]\n",
    "X_new_A, X_new_B = X_test_A[:3], X_test_B[:3]\n",
    "\n",
    "history = model.fit((X_train_A, X_train_B), y_train, epochs=20,\n",
    "                    validation_data=((X_valid_A, X_valid_B), y_valid))\n",
    "mse_test = model.evaluate((X_test_A, X_test_B), y_test)\n",
    "y_pred = model.predict((X_test_A, X_test_B))"
   ]
  },
  {
   "cell_type": "code",
   "execution_count": 14,
   "metadata": {},
   "outputs": [
    {
     "data": {
      "text/plain": [
       "0.2687186708204187"
      ]
     },
     "execution_count": 14,
     "metadata": {},
     "output_type": "execute_result"
    }
   ],
   "source": [
    "from sklearn.metrics import mean_absolute_percentage_error\n",
    "\n",
    "mean_absolute_percentage_error(y_test, y_pred)"
   ]
  },
  {
   "cell_type": "markdown",
   "metadata": {},
   "source": [
    "----\n",
    "\n",
    "# Model 3"
   ]
  },
  {
   "cell_type": "markdown",
   "metadata": {},
   "source": [
    "<img src=\"images/wide-and-deep-03.png\" width=\"400px\">"
   ]
  },
  {
   "cell_type": "code",
   "execution_count": null,
   "metadata": {},
   "outputs": [],
   "source": [
    "input_A = tf.keras.layers.Input(shape=[5], name=\"wide_input\")\n",
    "input_B = tf.keras.layers.Input(shape=[6], name=\"deep_input\")\n",
    "hidden1 = tf.keras.layers.Dense(30, activation=\"relu\")(input_B)\n",
    "hidden2 = tf.keras.layers.Dense(30, activation=\"relu\")(hidden1)\n",
    "concat = tf.keras.layers.concatenate([input_A, hidden2])\n",
    "output = tf.keras.layers.Dense(1, name=\"main_output\")(concat)\n",
    "aux_output = tf.keras.layers.Dense(1, name=\"aux_output\")(hidden2)\n",
    "model = tf.keras.models.Model(inputs=[input_A, input_B],\n",
    "                           outputs=[output, aux_output])"
   ]
  }
 ],
 "metadata": {
  "kernelspec": {
   "display_name": "base",
   "language": "python",
   "name": "python3"
  },
  "language_info": {
   "codemirror_mode": {
    "name": "ipython",
    "version": 3
   },
   "file_extension": ".py",
   "mimetype": "text/x-python",
   "name": "python",
   "nbconvert_exporter": "python",
   "pygments_lexer": "ipython3",
   "version": "3.11.7"
  }
 },
 "nbformat": 4,
 "nbformat_minor": 2
}
