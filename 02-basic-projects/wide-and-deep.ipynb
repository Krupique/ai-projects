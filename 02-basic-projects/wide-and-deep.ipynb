{
 "cells": [
  {
   "cell_type": "markdown",
   "metadata": {},
   "source": [
    "# Wide and Deep model"
   ]
  },
  {
   "cell_type": "code",
   "execution_count": 2,
   "metadata": {},
   "outputs": [
    {
     "name": "stdout",
     "output_type": "stream",
     "text": [
      "WARNING:tensorflow:From C:\\Users\\krupc\\AppData\\Roaming\\Python\\Python311\\site-packages\\keras\\src\\losses.py:2976: The name tf.losses.sparse_softmax_cross_entropy is deprecated. Please use tf.compat.v1.losses.sparse_softmax_cross_entropy instead.\n",
      "\n"
     ]
    }
   ],
   "source": [
    "import sys\n",
    "import pandas as pd\n",
    "import numpy as np\n",
    "\n",
    "import tensorflow as tf\n",
    "import sklearn\n",
    "\n",
    "import matplotlib as mpl\n",
    "import matplotlib.pyplot as plt\n",
    "import seaborn as sns\n",
    "from sklearn.datasets import fetch_california_housing\n",
    "from sklearn.model_selection import train_test_split\n",
    "from sklearn.preprocessing import StandardScaler\n",
    "\n",
    "import warnings\n",
    "warnings.filterwarnings(\"ignore\")\n",
    "pd.set_option('display.max_columns', None)\n",
    "sns.set_style(\"darkgrid\", {\"axes.facecolor\": \".95\"})\n",
    "sns.set_context(\"paper\")"
   ]
  },
  {
   "cell_type": "code",
   "execution_count": 3,
   "metadata": {},
   "outputs": [],
   "source": [
    "housing = fetch_california_housing()\n",
    "\n",
    "X_train_full, X_test, y_train_full, y_test = train_test_split(housing.data, housing.target, random_state=42)\n",
    "X_train, X_valid, y_train, y_valid = train_test_split(X_train_full, y_train_full, random_state=42)\n",
    "\n",
    "scaler = StandardScaler()\n",
    "X_train = scaler.fit_transform(X_train)\n",
    "X_valid = scaler.transform(X_valid)\n",
    "X_test = scaler.transform(X_test)"
   ]
  },
  {
   "cell_type": "markdown",
   "metadata": {},
   "source": [
    "# Model 1"
   ]
  },
  {
   "cell_type": "markdown",
   "metadata": {},
   "source": [
    "<img src=\"images/wide-and-deep-01.png\" width=\"400px\">"
   ]
  },
  {
   "cell_type": "code",
   "execution_count": 5,
   "metadata": {},
   "outputs": [
    {
     "name": "stdout",
     "output_type": "stream",
     "text": [
      "WARNING:tensorflow:From C:\\Users\\krupc\\AppData\\Roaming\\Python\\Python311\\site-packages\\keras\\src\\backend.py:1398: The name tf.executing_eagerly_outside_functions is deprecated. Please use tf.compat.v1.executing_eagerly_outside_functions instead.\n",
      "\n"
     ]
    }
   ],
   "source": [
    "input_A = tf.keras.layers.Input(shape=[5], name=\"wide_input\")\n",
    "input_B = tf.keras.layers.Input(shape=[6], name=\"deep_input\")\n",
    "hidden1 = tf.keras.layers.Dense(30, activation=\"relu\")(input_B)\n",
    "hidden2 = tf.keras.layers.Dense(30, activation=\"relu\")(hidden1)\n",
    "concat = tf.keras.layers.concatenate([input_A, hidden2])\n",
    "output = tf.keras.layers.Dense(1, name=\"output\")(concat)\n",
    "model = tf.keras.models.Model(inputs=[input_A, input_B], outputs=[output])"
   ]
  },
  {
   "cell_type": "code",
   "execution_count": 12,
   "metadata": {},
   "outputs": [
    {
     "name": "stdout",
     "output_type": "stream",
     "text": [
      "Epoch 1/20\n",
      "363/363 [==============================] - 0s 888us/step - loss: 0.4312 - val_loss: 0.4177\n",
      "Epoch 2/20\n",
      "363/363 [==============================] - 0s 718us/step - loss: 0.4289 - val_loss: 0.4109\n",
      "Epoch 3/20\n",
      "363/363 [==============================] - 0s 722us/step - loss: 0.4264 - val_loss: 0.4190\n",
      "Epoch 4/20\n",
      "363/363 [==============================] - 0s 725us/step - loss: 0.4241 - val_loss: 0.4123\n",
      "Epoch 5/20\n",
      "363/363 [==============================] - 0s 737us/step - loss: 0.4222 - val_loss: 0.4104\n",
      "Epoch 6/20\n",
      "363/363 [==============================] - 0s 743us/step - loss: 0.4203 - val_loss: 0.4157\n",
      "Epoch 7/20\n",
      "363/363 [==============================] - 0s 746us/step - loss: 0.4179 - val_loss: 0.4139\n",
      "Epoch 8/20\n",
      "363/363 [==============================] - 0s 740us/step - loss: 0.4165 - val_loss: 0.3995\n",
      "Epoch 9/20\n",
      "363/363 [==============================] - 0s 747us/step - loss: 0.4149 - val_loss: 0.3970\n",
      "Epoch 10/20\n",
      "363/363 [==============================] - 0s 730us/step - loss: 0.4136 - val_loss: 0.3967\n",
      "Epoch 11/20\n",
      "363/363 [==============================] - 0s 722us/step - loss: 0.4116 - val_loss: 0.4084\n",
      "Epoch 12/20\n",
      "363/363 [==============================] - 0s 714us/step - loss: 0.4103 - val_loss: 0.3993\n",
      "Epoch 13/20\n",
      "363/363 [==============================] - 0s 724us/step - loss: 0.4086 - val_loss: 0.3890\n",
      "Epoch 14/20\n",
      "363/363 [==============================] - 0s 738us/step - loss: 0.4073 - val_loss: 0.3958\n",
      "Epoch 15/20\n",
      "363/363 [==============================] - 0s 714us/step - loss: 0.4060 - val_loss: 0.3847\n",
      "Epoch 16/20\n",
      "363/363 [==============================] - 0s 708us/step - loss: 0.4045 - val_loss: 0.3980\n",
      "Epoch 17/20\n",
      "363/363 [==============================] - 0s 714us/step - loss: 0.4033 - val_loss: 0.4041\n",
      "Epoch 18/20\n",
      "363/363 [==============================] - 0s 730us/step - loss: 0.4022 - val_loss: 0.3823\n",
      "Epoch 19/20\n",
      "363/363 [==============================] - 0s 771us/step - loss: 0.4009 - val_loss: 0.3889\n",
      "Epoch 20/20\n",
      "363/363 [==============================] - 0s 718us/step - loss: 0.4001 - val_loss: 0.3813\n",
      "162/162 [==============================] - 0s 495us/step - loss: 0.3951\n",
      "162/162 [==============================] - 0s 474us/step\n"
     ]
    }
   ],
   "source": [
    "model.compile(loss=\"mse\", optimizer=tf.keras.optimizers.SGD(learning_rate=1e-3))\n",
    "\n",
    "X_train_A, X_train_B = X_train[:, :5], X_train[:, 2:]\n",
    "X_valid_A, X_valid_B = X_valid[:, :5], X_valid[:, 2:]\n",
    "X_test_A, X_test_B = X_test[:, :5], X_test[:, 2:]\n",
    "X_new_A, X_new_B = X_test_A[:3], X_test_B[:3]\n",
    "\n",
    "history = model.fit((X_train_A, X_train_B), y_train, epochs=20,\n",
    "                    validation_data=((X_valid_A, X_valid_B), y_valid))\n",
    "mse_test = model.evaluate((X_test_A, X_test_B), y_test)\n",
    "y_pred = model.predict((X_test_A, X_test_B))"
   ]
  },
  {
   "cell_type": "code",
   "execution_count": 14,
   "metadata": {},
   "outputs": [
    {
     "data": {
      "text/plain": [
       "0.2687186708204187"
      ]
     },
     "execution_count": 14,
     "metadata": {},
     "output_type": "execute_result"
    }
   ],
   "source": [
    "from sklearn.metrics import mean_absolute_percentage_error\n",
    "\n",
    "mean_absolute_percentage_error(y_test, y_pred)"
   ]
  },
  {
   "cell_type": "markdown",
   "metadata": {},
   "source": [
    "----\n",
    "\n",
    "# Model 3"
   ]
  },
  {
   "cell_type": "markdown",
   "metadata": {},
   "source": [
    "<img src=\"images/wide-and-deep-03.png\" width=\"400px\">"
   ]
  },
  {
   "cell_type": "code",
   "execution_count": 15,
   "metadata": {},
   "outputs": [],
   "source": [
    "input_A = tf.keras.layers.Input(shape=[5], name=\"wide_input\")\n",
    "input_B = tf.keras.layers.Input(shape=[6], name=\"deep_input\")\n",
    "hidden1 = tf.keras.layers.Dense(30, activation=\"relu\")(input_B)\n",
    "hidden2 = tf.keras.layers.Dense(30, activation=\"relu\")(hidden1)\n",
    "concat = tf.keras.layers.concatenate([input_A, hidden2])\n",
    "output = tf.keras.layers.Dense(1, name=\"main_output\")(concat)\n",
    "aux_output = tf.keras.layers.Dense(1, name=\"aux_output\")(hidden2)\n",
    "model = tf.keras.models.Model(inputs=[input_A, input_B],\n",
    "                           outputs=[output, aux_output])"
   ]
  },
  {
   "cell_type": "code",
   "execution_count": 17,
   "metadata": {},
   "outputs": [],
   "source": [
    "model.compile(loss=[\"mse\", \"mse\"], loss_weights=[0.9, 0.1], optimizer=tf.keras.optimizers.SGD(learning_rate=1e-3))"
   ]
  },
  {
   "cell_type": "code",
   "execution_count": 18,
   "metadata": {},
   "outputs": [
    {
     "name": "stdout",
     "output_type": "stream",
     "text": [
      "Epoch 1/20\n",
      "WARNING:tensorflow:From C:\\Users\\krupc\\AppData\\Roaming\\Python\\Python311\\site-packages\\keras\\src\\engine\\base_layer_utils.py:384: The name tf.executing_eagerly_outside_functions is deprecated. Please use tf.compat.v1.executing_eagerly_outside_functions instead.\n",
      "\n",
      "363/363 [==============================] - 1s 1ms/step - loss: 2.2619 - main_output_loss: 2.1355 - aux_output_loss: 3.3996 - val_loss: 1.3348 - val_main_output_loss: 1.1052 - val_aux_output_loss: 3.4019\n",
      "Epoch 2/20\n",
      "363/363 [==============================] - 0s 864us/step - loss: 0.9261 - main_output_loss: 0.8068 - aux_output_loss: 1.9991 - val_loss: 0.9992 - val_main_output_loss: 0.7426 - val_aux_output_loss: 3.3086\n",
      "Epoch 3/20\n",
      "363/363 [==============================] - 0s 796us/step - loss: 0.7717 - main_output_loss: 0.6902 - aux_output_loss: 1.5047 - val_loss: 0.9032 - val_main_output_loss: 0.6669 - val_aux_output_loss: 3.0303\n",
      "Epoch 4/20\n",
      "363/363 [==============================] - 0s 824us/step - loss: 0.6880 - main_output_loss: 0.6228 - aux_output_loss: 1.2743 - val_loss: 0.8412 - val_main_output_loss: 0.6418 - val_aux_output_loss: 2.6358\n",
      "Epoch 5/20\n",
      "363/363 [==============================] - 0s 795us/step - loss: 0.6334 - main_output_loss: 0.5760 - aux_output_loss: 1.1499 - val_loss: 0.7140 - val_main_output_loss: 0.5506 - val_aux_output_loss: 2.1849\n",
      "Epoch 6/20\n",
      "363/363 [==============================] - 0s 834us/step - loss: 0.5929 - main_output_loss: 0.5396 - aux_output_loss: 1.0725 - val_loss: 0.6775 - val_main_output_loss: 0.5518 - val_aux_output_loss: 1.8085\n",
      "Epoch 7/20\n",
      "363/363 [==============================] - 0s 827us/step - loss: 0.5632 - main_output_loss: 0.5127 - aux_output_loss: 1.0178 - val_loss: 0.6197 - val_main_output_loss: 0.5190 - val_aux_output_loss: 1.5255\n",
      "Epoch 8/20\n",
      "363/363 [==============================] - 0s 829us/step - loss: 0.5402 - main_output_loss: 0.4921 - aux_output_loss: 0.9732 - val_loss: 0.5453 - val_main_output_loss: 0.4568 - val_aux_output_loss: 1.3425\n",
      "Epoch 9/20\n",
      "363/363 [==============================] - 0s 799us/step - loss: 0.5226 - main_output_loss: 0.4763 - aux_output_loss: 0.9399 - val_loss: 0.5174 - val_main_output_loss: 0.4444 - val_aux_output_loss: 1.1742\n",
      "Epoch 10/20\n",
      "363/363 [==============================] - 0s 771us/step - loss: 0.5090 - main_output_loss: 0.4645 - aux_output_loss: 0.9100 - val_loss: 0.4950 - val_main_output_loss: 0.4332 - val_aux_output_loss: 1.0510\n",
      "Epoch 11/20\n",
      "363/363 [==============================] - 0s 816us/step - loss: 0.4984 - main_output_loss: 0.4556 - aux_output_loss: 0.8838 - val_loss: 0.4730 - val_main_output_loss: 0.4184 - val_aux_output_loss: 0.9646\n",
      "Epoch 12/20\n",
      "363/363 [==============================] - 0s 768us/step - loss: 0.4899 - main_output_loss: 0.4485 - aux_output_loss: 0.8627 - val_loss: 0.4605 - val_main_output_loss: 0.4108 - val_aux_output_loss: 0.9083\n",
      "Epoch 13/20\n",
      "363/363 [==============================] - 0s 778us/step - loss: 0.4831 - main_output_loss: 0.4431 - aux_output_loss: 0.8436 - val_loss: 0.4536 - val_main_output_loss: 0.4083 - val_aux_output_loss: 0.8613\n",
      "Epoch 14/20\n",
      "363/363 [==============================] - 0s 779us/step - loss: 0.4772 - main_output_loss: 0.4385 - aux_output_loss: 0.8260 - val_loss: 0.4440 - val_main_output_loss: 0.4007 - val_aux_output_loss: 0.8341\n",
      "Epoch 15/20\n",
      "363/363 [==============================] - 0s 782us/step - loss: 0.4722 - main_output_loss: 0.4345 - aux_output_loss: 0.8108 - val_loss: 0.4405 - val_main_output_loss: 0.3995 - val_aux_output_loss: 0.8100\n",
      "Epoch 16/20\n",
      "363/363 [==============================] - 0s 782us/step - loss: 0.4678 - main_output_loss: 0.4312 - aux_output_loss: 0.7971 - val_loss: 0.4336 - val_main_output_loss: 0.3941 - val_aux_output_loss: 0.7892\n",
      "Epoch 17/20\n",
      "363/363 [==============================] - 0s 803us/step - loss: 0.4636 - main_output_loss: 0.4281 - aux_output_loss: 0.7835 - val_loss: 0.4375 - val_main_output_loss: 0.3999 - val_aux_output_loss: 0.7757\n",
      "Epoch 18/20\n",
      "363/363 [==============================] - 0s 790us/step - loss: 0.4601 - main_output_loss: 0.4255 - aux_output_loss: 0.7714 - val_loss: 0.4320 - val_main_output_loss: 0.3952 - val_aux_output_loss: 0.7635\n",
      "Epoch 19/20\n",
      "363/363 [==============================] - 0s 819us/step - loss: 0.4570 - main_output_loss: 0.4233 - aux_output_loss: 0.7606 - val_loss: 0.4225 - val_main_output_loss: 0.3856 - val_aux_output_loss: 0.7547\n",
      "Epoch 20/20\n",
      "363/363 [==============================] - 0s 773us/step - loss: 0.4541 - main_output_loss: 0.4212 - aux_output_loss: 0.7505 - val_loss: 0.4241 - val_main_output_loss: 0.3884 - val_aux_output_loss: 0.7456\n"
     ]
    }
   ],
   "source": [
    "history = model.fit([X_train_A, X_train_B], [y_train, y_train], epochs=20,\n",
    "                    validation_data=([X_valid_A, X_valid_B], [y_valid, y_valid]))"
   ]
  },
  {
   "cell_type": "code",
   "execution_count": 19,
   "metadata": {},
   "outputs": [
    {
     "name": "stdout",
     "output_type": "stream",
     "text": [
      "162/162 [==============================] - 0s 534us/step - loss: 0.4439 - main_output_loss: 0.4124 - aux_output_loss: 0.7273\n",
      "1/1 [==============================] - 0s 35ms/step\n"
     ]
    }
   ],
   "source": [
    "total_loss, main_loss, aux_loss = model.evaluate(\n",
    "    [X_test_A, X_test_B], [y_test, y_test])\n",
    "y_pred_main, y_pred_aux = model.predict([X_new_A, X_new_B])"
   ]
  },
  {
   "cell_type": "code",
   "execution_count": 21,
   "metadata": {},
   "outputs": [
    {
     "data": {
      "text/plain": [
       "array([[0.9203347],\n",
       "       [1.842216 ],\n",
       "       [2.6852145]], dtype=float32)"
      ]
     },
     "execution_count": 21,
     "metadata": {},
     "output_type": "execute_result"
    }
   ],
   "source": [
    "y_pred_aux"
   ]
  },
  {
   "cell_type": "markdown",
   "metadata": {},
   "source": [
    "# Using subclassing API"
   ]
  },
  {
   "cell_type": "code",
   "execution_count": 22,
   "metadata": {},
   "outputs": [],
   "source": [
    "class WideAndDeepModel(tf.keras.models.Model):\n",
    "    def __init__(self, units=30, activation=\"relu\", **kwargs):\n",
    "        super().__init__(**kwargs)\n",
    "        self.hidden1 = tf.keras.layers.Dense(units, activation=activation)\n",
    "        self.hidden2 = tf.keras.layers.Dense(units, activation=activation)\n",
    "        self.main_output = tf.keras.layers.Dense(1)\n",
    "        self.aux_output = tf.keras.layers.Dense(1)\n",
    "        \n",
    "    def call(self, inputs):\n",
    "        input_A, input_B = inputs\n",
    "        hidden1 = self.hidden1(input_B)\n",
    "        hidden2 = self.hidden2(hidden1)\n",
    "        concat = tf.keras.layers.concatenate([input_A, hidden2])\n",
    "        main_output = self.main_output(concat)\n",
    "        aux_output = self.aux_output(hidden2)\n",
    "        return main_output, aux_output\n",
    "\n",
    "model = WideAndDeepModel(30, activation=\"relu\")"
   ]
  },
  {
   "cell_type": "code",
   "execution_count": 23,
   "metadata": {},
   "outputs": [
    {
     "name": "stdout",
     "output_type": "stream",
     "text": [
      "Epoch 1/10\n",
      "363/363 [==============================] - 1s 1ms/step - loss: 2.5452 - output_1_loss: 2.1606 - output_2_loss: 6.0065 - val_loss: 1.3578 - val_output_1_loss: 1.0430 - val_output_2_loss: 4.1907\n",
      "Epoch 2/10\n",
      "363/363 [==============================] - 0s 785us/step - loss: 1.0471 - output_1_loss: 0.7885 - output_2_loss: 3.3745 - val_loss: 0.9518 - val_output_1_loss: 0.7316 - val_output_2_loss: 2.9333\n",
      "Epoch 3/10\n",
      "363/363 [==============================] - 0s 820us/step - loss: 0.8352 - output_1_loss: 0.6816 - output_2_loss: 2.2175 - val_loss: 0.8550 - val_output_1_loss: 0.6557 - val_output_2_loss: 2.6485\n",
      "Epoch 4/10\n",
      "363/363 [==============================] - 0s 808us/step - loss: 0.7465 - output_1_loss: 0.6402 - output_2_loss: 1.7031 - val_loss: 0.8186 - val_output_1_loss: 0.6199 - val_output_2_loss: 2.6073\n",
      "Epoch 5/10\n",
      "363/363 [==============================] - 0s 787us/step - loss: 0.6980 - output_1_loss: 0.6133 - output_2_loss: 1.4605 - val_loss: 0.7931 - val_output_1_loss: 0.5962 - val_output_2_loss: 2.5653\n",
      "Epoch 6/10\n",
      "363/363 [==============================] - 0s 809us/step - loss: 0.6657 - output_1_loss: 0.5921 - output_2_loss: 1.3285 - val_loss: 0.7656 - val_output_1_loss: 0.5800 - val_output_2_loss: 2.4354\n",
      "Epoch 7/10\n",
      "363/363 [==============================] - 0s 785us/step - loss: 0.6414 - output_1_loss: 0.5739 - output_2_loss: 1.2485 - val_loss: 0.7340 - val_output_1_loss: 0.5595 - val_output_2_loss: 2.3042\n",
      "Epoch 8/10\n",
      "363/363 [==============================] - 0s 769us/step - loss: 0.6214 - output_1_loss: 0.5578 - output_2_loss: 1.1935 - val_loss: 0.7015 - val_output_1_loss: 0.5388 - val_output_2_loss: 2.1653\n",
      "Epoch 9/10\n",
      "363/363 [==============================] - 0s 823us/step - loss: 0.6040 - output_1_loss: 0.5433 - output_2_loss: 1.1503 - val_loss: 0.6738 - val_output_1_loss: 0.5207 - val_output_2_loss: 2.0517\n",
      "Epoch 10/10\n",
      "363/363 [==============================] - 0s 813us/step - loss: 0.5878 - output_1_loss: 0.5294 - output_2_loss: 1.1132 - val_loss: 0.6447 - val_output_1_loss: 0.5019 - val_output_2_loss: 1.9294\n",
      "162/162 [==============================] - 0s 553us/step - loss: 0.5717 - output_1_loss: 0.5161 - output_2_loss: 1.0722\n",
      "1/1 [==============================] - 0s 38ms/step\n"
     ]
    }
   ],
   "source": [
    "model.compile(loss=\"mse\", loss_weights=[0.9, 0.1], optimizer=tf.keras.optimizers.SGD(learning_rate=1e-3))\n",
    "history = model.fit((X_train_A, X_train_B), (y_train, y_train), epochs=10,\n",
    "                    validation_data=((X_valid_A, X_valid_B), (y_valid, y_valid)))\n",
    "total_loss, main_loss, aux_loss = model.evaluate((X_test_A, X_test_B), (y_test, y_test))\n",
    "y_pred_main, y_pred_aux = model.predict((X_new_A, X_new_B))"
   ]
  },
  {
   "cell_type": "markdown",
   "metadata": {},
   "source": [
    "# Saving and Restoring"
   ]
  },
  {
   "cell_type": "code",
   "execution_count": 24,
   "metadata": {},
   "outputs": [
    {
     "name": "stdout",
     "output_type": "stream",
     "text": [
      "Epoch 1/10\n",
      "363/363 [==============================] - 0s 889us/step - loss: 2.1707 - val_loss: 1.3049\n",
      "Epoch 2/10\n",
      "363/363 [==============================] - 0s 696us/step - loss: 0.7646 - val_loss: 0.6762\n",
      "Epoch 3/10\n",
      "363/363 [==============================] - 0s 716us/step - loss: 0.6873 - val_loss: 0.6537\n",
      "Epoch 4/10\n",
      "363/363 [==============================] - 0s 693us/step - loss: 0.6576 - val_loss: 0.6021\n",
      "Epoch 5/10\n",
      "363/363 [==============================] - 0s 695us/step - loss: 0.6319 - val_loss: 0.5801\n",
      "Epoch 6/10\n",
      "363/363 [==============================] - 0s 700us/step - loss: 0.6087 - val_loss: 0.5668\n",
      "Epoch 7/10\n",
      "363/363 [==============================] - 0s 707us/step - loss: 0.5873 - val_loss: 0.5526\n",
      "Epoch 8/10\n",
      "363/363 [==============================] - 0s 698us/step - loss: 0.5667 - val_loss: 0.5414\n",
      "Epoch 9/10\n",
      "363/363 [==============================] - 0s 696us/step - loss: 0.5474 - val_loss: 0.5055\n",
      "Epoch 10/10\n",
      "363/363 [==============================] - 0s 694us/step - loss: 0.5279 - val_loss: 0.4902\n",
      "162/162 [==============================] - 0s 456us/step - loss: 0.5021\n"
     ]
    }
   ],
   "source": [
    "model = tf.keras.models.Sequential([\n",
    "    tf.keras.layers.Dense(30, activation=\"relu\", input_shape=[8]),\n",
    "    tf.keras.layers.Dense(30, activation=\"relu\"),\n",
    "    tf.keras.layers.Dense(1)\n",
    "])    \n",
    "\n",
    "model.compile(loss=\"mse\", optimizer=tf.keras.optimizers.SGD(learning_rate=1e-3))\n",
    "history = model.fit(X_train, y_train, epochs=10, validation_data=(X_valid, y_valid))\n",
    "mse_test = model.evaluate(X_test, y_test)"
   ]
  },
  {
   "cell_type": "markdown",
   "metadata": {},
   "source": [
    "**Saving**"
   ]
  },
  {
   "cell_type": "code",
   "execution_count": 25,
   "metadata": {},
   "outputs": [],
   "source": [
    "model.save(\"my_keras_model.h5\")"
   ]
  },
  {
   "cell_type": "markdown",
   "metadata": {},
   "source": [
    "**Loading**"
   ]
  },
  {
   "cell_type": "code",
   "execution_count": 26,
   "metadata": {},
   "outputs": [],
   "source": [
    "model = tf.keras.models.load_model(\"my_keras_model.h5\")"
   ]
  },
  {
   "cell_type": "markdown",
   "metadata": {},
   "source": [
    "**Predicting**"
   ]
  },
  {
   "cell_type": "code",
   "execution_count": 27,
   "metadata": {},
   "outputs": [
    {
     "name": "stdout",
     "output_type": "stream",
     "text": [
      "162/162 [==============================] - 0s 473us/step\n"
     ]
    },
    {
     "data": {
      "text/plain": [
       "array([[1.0178612],\n",
       "       [1.288365 ],\n",
       "       [2.7351105],\n",
       "       ...,\n",
       "       [1.6858722],\n",
       "       [2.3802881],\n",
       "       [3.4826055]], dtype=float32)"
      ]
     },
     "execution_count": 27,
     "metadata": {},
     "output_type": "execute_result"
    }
   ],
   "source": [
    "model.predict(X_test)"
   ]
  },
  {
   "cell_type": "code",
   "execution_count": 28,
   "metadata": {},
   "outputs": [],
   "source": [
    "model.save_weights(\"my_keras_weights.ckpt\")"
   ]
  },
  {
   "cell_type": "code",
   "execution_count": 29,
   "metadata": {},
   "outputs": [
    {
     "name": "stdout",
     "output_type": "stream",
     "text": [
      "WARNING:tensorflow:From C:\\Users\\krupc\\AppData\\Roaming\\Python\\Python311\\site-packages\\keras\\src\\saving\\legacy\\save.py:538: The name tf.train.NewCheckpointReader is deprecated. Please use tf.compat.v1.train.NewCheckpointReader instead.\n",
      "\n"
     ]
    },
    {
     "data": {
      "text/plain": [
       "<tensorflow.python.checkpoint.checkpoint.CheckpointLoadStatus at 0x298b9f34d90>"
      ]
     },
     "execution_count": 29,
     "metadata": {},
     "output_type": "execute_result"
    }
   ],
   "source": [
    "model.load_weights(\"my_keras_weights.ckpt\")"
   ]
  },
  {
   "cell_type": "markdown",
   "metadata": {},
   "source": [
    "## Using Callbacks during Training"
   ]
  },
  {
   "cell_type": "code",
   "execution_count": 30,
   "metadata": {},
   "outputs": [],
   "source": [
    "tf.keras.backend.clear_session()\n",
    "np.random.seed(42)\n",
    "tf.random.set_seed(42)\n",
    "\n",
    "model = tf.keras.models.Sequential([\n",
    "    tf.keras.layers.Dense(30, activation=\"relu\", input_shape=[8]),\n",
    "    tf.keras.layers.Dense(30, activation=\"relu\"),\n",
    "    tf.keras.layers.Dense(1)\n",
    "])    "
   ]
  },
  {
   "cell_type": "code",
   "execution_count": 32,
   "metadata": {},
   "outputs": [],
   "source": [
    "class PrintValTrainRatioCallback(tf.keras.callbacks.Callback):\n",
    "    def on_epoch_end(self, epoch, logs):\n",
    "        print(\"\\nval/train: {:.2f}\".format(logs[\"val_loss\"] / logs[\"loss\"]))"
   ]
  },
  {
   "cell_type": "code",
   "execution_count": 35,
   "metadata": {},
   "outputs": [
    {
     "name": "stdout",
     "output_type": "stream",
     "text": [
      "Epoch 1/100\n",
      "279/363 [======================>.......] - ETA: 0s - loss: 0.3454\n",
      "val/train: 1.07\n",
      "363/363 [==============================] - 0s 850us/step - loss: 0.3400 - val_loss: 0.3635\n",
      "Epoch 2/100\n",
      "292/363 [=======================>......] - ETA: 0s - loss: 0.3384\n",
      "val/train: 1.11\n",
      "363/363 [==============================] - 0s 718us/step - loss: 0.3395 - val_loss: 0.3759\n",
      "Epoch 3/100\n",
      "344/363 [===========================>..] - ETA: 0s - loss: 0.3420\n",
      "val/train: 1.09\n",
      "363/363 [==============================] - 0s 791us/step - loss: 0.3393 - val_loss: 0.3699\n",
      "Epoch 4/100\n",
      "272/363 [=====================>........] - ETA: 0s - loss: 0.3428\n",
      "val/train: 1.04\n",
      "363/363 [==============================] - 0s 779us/step - loss: 0.3390 - val_loss: 0.3510\n",
      "Epoch 5/100\n",
      "306/363 [========================>.....] - ETA: 0s - loss: 0.3330\n",
      "val/train: 1.03\n",
      "363/363 [==============================] - 0s 708us/step - loss: 0.3385 - val_loss: 0.3476\n",
      "Epoch 6/100\n",
      "293/363 [=======================>......] - ETA: 0s - loss: 0.3402\n",
      "val/train: 1.04\n",
      "363/363 [==============================] - 0s 695us/step - loss: 0.3382 - val_loss: 0.3530\n",
      "Epoch 7/100\n",
      "304/363 [========================>.....] - ETA: 0s - loss: 0.3407\n",
      "val/train: 1.04\n",
      "363/363 [==============================] - 0s 707us/step - loss: 0.3378 - val_loss: 0.3501\n",
      "Epoch 8/100\n",
      "363/363 [==============================] - ETA: 0s - loss: 0.3374\n",
      "val/train: 1.02\n",
      "363/363 [==============================] - 0s 770us/step - loss: 0.3374 - val_loss: 0.3448\n",
      "Epoch 9/100\n",
      "284/363 [======================>.......] - ETA: 0s - loss: 0.3443\n",
      "val/train: 1.03\n",
      "363/363 [==============================] - 0s 717us/step - loss: 0.3370 - val_loss: 0.3456\n",
      "Epoch 10/100\n",
      "290/363 [======================>.......] - ETA: 0s - loss: 0.3357\n",
      "val/train: 1.06\n",
      "363/363 [==============================] - 0s 727us/step - loss: 0.3366 - val_loss: 0.3559\n",
      "Epoch 11/100\n",
      "354/363 [============================>.] - ETA: 0s - loss: 0.3372\n",
      "val/train: 1.02\n",
      "363/363 [==============================] - 0s 775us/step - loss: 0.3364 - val_loss: 0.3418\n",
      "Epoch 12/100\n",
      "286/363 [======================>.......] - ETA: 0s - loss: 0.3392\n",
      "val/train: 1.07\n",
      "363/363 [==============================] - 0s 718us/step - loss: 0.3360 - val_loss: 0.3592\n",
      "Epoch 13/100\n",
      "292/363 [=======================>......] - ETA: 0s - loss: 0.3309\n",
      "val/train: 1.08\n",
      "363/363 [==============================] - 0s 710us/step - loss: 0.3354 - val_loss: 0.3617\n",
      "Epoch 14/100\n",
      "284/363 [======================>.......] - ETA: 0s - loss: 0.3325\n",
      "val/train: 1.03\n",
      "363/363 [==============================] - 0s 719us/step - loss: 0.3352 - val_loss: 0.3462\n",
      "Epoch 15/100\n",
      "292/363 [=======================>......] - ETA: 0s - loss: 0.3327\n",
      "val/train: 1.04\n",
      "363/363 [==============================] - 0s 686us/step - loss: 0.3349 - val_loss: 0.3482\n",
      "Epoch 16/100\n",
      "290/363 [======================>.......] - ETA: 0s - loss: 0.3430\n",
      "val/train: 1.03\n",
      "363/363 [==============================] - 0s 700us/step - loss: 0.3346 - val_loss: 0.3448\n",
      "Epoch 17/100\n",
      "301/363 [=======================>......] - ETA: 0s - loss: 0.3303\n",
      "val/train: 1.07\n",
      "363/363 [==============================] - 0s 698us/step - loss: 0.3343 - val_loss: 0.3562\n",
      "Epoch 18/100\n",
      "334/363 [==========================>...] - ETA: 0s - loss: 0.3357\n",
      "val/train: 1.05\n",
      "363/363 [==============================] - 0s 779us/step - loss: 0.3339 - val_loss: 0.3508\n",
      "Epoch 19/100\n",
      "309/363 [========================>.....] - ETA: 0s - loss: 0.3387\n",
      "val/train: 1.05\n",
      "363/363 [==============================] - 0s 668us/step - loss: 0.3334 - val_loss: 0.3497\n",
      "Epoch 20/100\n",
      "292/363 [=======================>......] - ETA: 0s - loss: 0.3311\n",
      "val/train: 1.11\n",
      "363/363 [==============================] - 0s 703us/step - loss: 0.3333 - val_loss: 0.3685\n",
      "Epoch 21/100\n",
      "287/363 [======================>.......] - ETA: 0s - loss: 0.3322\n",
      "val/train: 1.10\n",
      "363/363 [==============================] - 0s 709us/step - loss: 0.3328 - val_loss: 0.3659\n",
      "162/162 [==============================] - 0s 466us/step - loss: 0.3362\n"
     ]
    }
   ],
   "source": [
    "early_stopping_cb = tf.keras.callbacks.EarlyStopping(patience=10, restore_best_weights=True)\n",
    "checkpoint_cb = tf.keras.callbacks.ModelCheckpoint(\"my_keras_model.h5\", save_best_only=True)\n",
    "val_train_ratio_cb = PrintValTrainRatioCallback()\n",
    "\n",
    "model.compile(loss=\"mse\", optimizer=tf.keras.optimizers.SGD(learning_rate=1e-3))\n",
    "\n",
    "history = model.fit(X_train, y_train, epochs=100,\n",
    "                    validation_data=(X_valid, y_valid),\n",
    "                    callbacks=[checkpoint_cb, early_stopping_cb, val_train_ratio_cb])\n",
    "\n",
    "mse_test = model.evaluate(X_test, y_test)"
   ]
  },
  {
   "cell_type": "markdown",
   "metadata": {},
   "source": [
    "---"
   ]
  }
 ],
 "metadata": {
  "kernelspec": {
   "display_name": "base",
   "language": "python",
   "name": "python3"
  },
  "language_info": {
   "codemirror_mode": {
    "name": "ipython",
    "version": 3
   },
   "file_extension": ".py",
   "mimetype": "text/x-python",
   "name": "python",
   "nbconvert_exporter": "python",
   "pygments_lexer": "ipython3",
   "version": "3.11.7"
  }
 },
 "nbformat": 4,
 "nbformat_minor": 2
}
