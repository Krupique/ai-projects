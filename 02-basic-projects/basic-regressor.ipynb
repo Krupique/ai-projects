{
 "cells": [
  {
   "cell_type": "markdown",
   "metadata": {},
   "source": [
    "# California Housing Dataset"
   ]
  },
  {
   "cell_type": "code",
   "execution_count": 1,
   "metadata": {},
   "outputs": [
    {
     "name": "stdout",
     "output_type": "stream",
     "text": [
      "WARNING:tensorflow:From C:\\Users\\krupc\\AppData\\Roaming\\Python\\Python311\\site-packages\\keras\\src\\losses.py:2976: The name tf.losses.sparse_softmax_cross_entropy is deprecated. Please use tf.compat.v1.losses.sparse_softmax_cross_entropy instead.\n",
      "\n"
     ]
    }
   ],
   "source": [
    "import sys\n",
    "import pandas as pd\n",
    "import numpy as np\n",
    "\n",
    "import tensorflow as tf\n",
    "import sklearn\n",
    "\n",
    "import matplotlib as mpl\n",
    "import matplotlib.pyplot as plt\n",
    "import seaborn as sns\n",
    "\n",
    "import warnings\n",
    "warnings.filterwarnings(\"ignore\")\n",
    "pd.set_option('display.max_columns', None)\n",
    "sns.set_style(\"darkgrid\", {\"axes.facecolor\": \".95\"})\n",
    "sns.set_context(\"paper\")"
   ]
  },
  {
   "cell_type": "code",
   "execution_count": 2,
   "metadata": {},
   "outputs": [],
   "source": [
    "from sklearn.datasets import fetch_california_housing\n",
    "from sklearn.model_selection import train_test_split\n",
    "from sklearn.preprocessing import StandardScaler\n",
    "\n",
    "housing = fetch_california_housing()\n",
    "\n",
    "X_train_full, X_test, y_train_full, y_test = train_test_split(housing.data, housing.target, random_state=42)\n",
    "X_train, X_valid, y_train, y_valid = train_test_split(X_train_full, y_train_full, random_state=42)\n",
    "\n",
    "scaler = StandardScaler()\n",
    "X_train = scaler.fit_transform(X_train)\n",
    "X_valid = scaler.transform(X_valid)\n",
    "X_test = scaler.transform(X_test)"
   ]
  },
  {
   "cell_type": "code",
   "execution_count": 3,
   "metadata": {},
   "outputs": [],
   "source": [
    "np.random.seed(42)\n",
    "tf.random.set_seed(42)"
   ]
  },
  {
   "cell_type": "markdown",
   "metadata": {},
   "source": [
    "## Creating the model"
   ]
  },
  {
   "cell_type": "code",
   "execution_count": 4,
   "metadata": {},
   "outputs": [
    {
     "name": "stdout",
     "output_type": "stream",
     "text": [
      "WARNING:tensorflow:From C:\\Users\\krupc\\AppData\\Roaming\\Python\\Python311\\site-packages\\keras\\src\\backend.py:873: The name tf.get_default_graph is deprecated. Please use tf.compat.v1.get_default_graph instead.\n",
      "\n",
      "Epoch 1/20\n",
      "WARNING:tensorflow:From C:\\Users\\krupc\\AppData\\Roaming\\Python\\Python311\\site-packages\\keras\\src\\utils\\tf_utils.py:492: The name tf.ragged.RaggedTensorValue is deprecated. Please use tf.compat.v1.ragged.RaggedTensorValue instead.\n",
      "\n",
      "363/363 [==============================] - 1s 1ms/step - loss: 2.5936 - val_loss: 1.3857\n",
      "Epoch 2/20\n",
      "363/363 [==============================] - 0s 850us/step - loss: 0.9372 - val_loss: 0.8248\n",
      "Epoch 3/20\n",
      "363/363 [==============================] - 0s 935us/step - loss: 0.7719 - val_loss: 0.8406\n",
      "Epoch 4/20\n",
      "363/363 [==============================] - 0s 855us/step - loss: 0.7158 - val_loss: 0.7405\n",
      "Epoch 5/20\n",
      "363/363 [==============================] - 0s 915us/step - loss: 0.6751 - val_loss: 0.6805\n",
      "Epoch 6/20\n",
      "363/363 [==============================] - 0s 940us/step - loss: 0.6406 - val_loss: 0.6627\n",
      "Epoch 7/20\n",
      "363/363 [==============================] - 0s 1ms/step - loss: 0.6114 - val_loss: 0.6583\n",
      "Epoch 8/20\n",
      "363/363 [==============================] - 0s 885us/step - loss: 0.5859 - val_loss: 0.5942\n",
      "Epoch 9/20\n",
      "363/363 [==============================] - 0s 917us/step - loss: 0.5631 - val_loss: 0.5884\n",
      "Epoch 10/20\n",
      "363/363 [==============================] - 0s 840us/step - loss: 0.5434 - val_loss: 0.5785\n",
      "Epoch 11/20\n",
      "363/363 [==============================] - 0s 912us/step - loss: 0.5262 - val_loss: 0.5103\n",
      "Epoch 12/20\n",
      "363/363 [==============================] - 0s 856us/step - loss: 0.5103 - val_loss: 0.5180\n",
      "Epoch 13/20\n",
      "363/363 [==============================] - 0s 871us/step - loss: 0.4968 - val_loss: 0.4950\n",
      "Epoch 14/20\n",
      "363/363 [==============================] - 0s 840us/step - loss: 0.4846 - val_loss: 0.4689\n",
      "Epoch 15/20\n",
      "363/363 [==============================] - 0s 1ms/step - loss: 0.4738 - val_loss: 0.4502\n",
      "Epoch 16/20\n",
      "363/363 [==============================] - 0s 880us/step - loss: 0.4644 - val_loss: 0.4406\n",
      "Epoch 17/20\n",
      "363/363 [==============================] - 0s 933us/step - loss: 0.4565 - val_loss: 0.4252\n",
      "Epoch 18/20\n",
      "363/363 [==============================] - 0s 853us/step - loss: 0.4494 - val_loss: 0.4140\n",
      "Epoch 19/20\n",
      "363/363 [==============================] - 0s 896us/step - loss: 0.4431 - val_loss: 0.4109\n",
      "Epoch 20/20\n",
      "363/363 [==============================] - 0s 950us/step - loss: 0.4381 - val_loss: 0.4028\n",
      "162/162 [==============================] - 0s 694us/step - loss: 0.4253\n",
      "1/1 [==============================] - 0s 55ms/step\n"
     ]
    }
   ],
   "source": [
    "model = tf.keras.models.Sequential([\n",
    "    tf.keras.layers.Dense(30, activation=\"relu\", input_shape=X_train.shape[1:]),\n",
    "    tf.keras.layers.Dense(1)\n",
    "])\n",
    "model.compile(loss=\"mean_squared_error\", optimizer=tf.keras.optimizers.SGD(learning_rate=1e-3))\n",
    "history = model.fit(X_train, y_train, epochs=20, validation_data=(X_valid, y_valid))\n",
    "mse_test = model.evaluate(X_test, y_test)\n",
    "X_new = X_test[:3]\n",
    "y_pred = model.predict(X_new)"
   ]
  },
  {
   "cell_type": "code",
   "execution_count": 5,
   "metadata": {},
   "outputs": [
    {
     "data": {
      "image/png": "[encoded data removed]",
      "text/plain": [
       "<Figure size 640x480 with 1 Axes>"
      ]
     },
     "metadata": {},
     "output_type": "display_data"
    }
   ],
   "source": [
    "plt.plot(pd.DataFrame(history.history))\n",
    "plt.grid(True)\n",
    "plt.gca().set_ylim(0, 1)\n",
    "plt.show()"
   ]
  },
  {
   "cell_type": "code",
   "execution_count": 6,
   "metadata": {},
   "outputs": [
    {
     "data": {
      "text/plain": [
       "array([[0.8519938],\n",
       "       [1.5861828],\n",
       "       [3.190826 ]], dtype=float32)"
      ]
     },
     "execution_count": 6,
     "metadata": {},
     "output_type": "execute_result"
    }
   ],
   "source": [
    "y_pred"
   ]
  }
 ],
 "metadata": {
  "kernelspec": {
   "display_name": "base",
   "language": "python",
   "name": "python3"
  },
  "language_info": {
   "codemirror_mode": {
    "name": "ipython",
    "version": 3
   },
   "file_extension": ".py",
   "mimetype": "text/x-python",
   "name": "python",
   "nbconvert_exporter": "python",
   "pygments_lexer": "ipython3",
   "version": "3.11.5"
  }
 },
 "nbformat": 4,
 "nbformat_minor": 2
}
