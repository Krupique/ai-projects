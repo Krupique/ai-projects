{
 "cells": [
  {
   "cell_type": "markdown",
   "metadata": {},
   "source": [
    "# Functional API\n",
    "\n",
    "Not all neural network models are simply sequential. Some may have complex topologies. Some may have multiple inputs and/or multiple outputs. For example, a Wide & Deep neural network (see [paper](https://ai.google/research/pubs/pub45413)) connects all or part of the inputs directly to the output layer."
   ]
  },
  {
   "cell_type": "code",
   "execution_count": 1,
   "metadata": {},
   "outputs": [
    {
     "name": "stdout",
     "output_type": "stream",
     "text": [
      "WARNING:tensorflow:From C:\\Users\\krupc\\AppData\\Roaming\\Python\\Python311\\site-packages\\keras\\src\\losses.py:2976: The name tf.losses.sparse_softmax_cross_entropy is deprecated. Please use tf.compat.v1.losses.sparse_softmax_cross_entropy instead.\n",
      "\n"
     ]
    }
   ],
   "source": [
    "import sys\n",
    "import pandas as pd\n",
    "import numpy as np\n",
    "\n",
    "import tensorflow as tf\n",
    "import sklearn\n",
    "\n",
    "import matplotlib as mpl\n",
    "import matplotlib.pyplot as plt\n",
    "import seaborn as sns\n",
    "from sklearn.datasets import fetch_california_housing\n",
    "from sklearn.model_selection import train_test_split\n",
    "from sklearn.preprocessing import StandardScaler\n",
    "\n",
    "import warnings\n",
    "warnings.filterwarnings(\"ignore\")\n",
    "pd.set_option('display.max_columns', None)\n",
    "sns.set_style(\"darkgrid\", {\"axes.facecolor\": \".95\"})\n",
    "sns.set_context(\"paper\")"
   ]
  },
  {
   "cell_type": "code",
   "execution_count": 2,
   "metadata": {},
   "outputs": [],
   "source": [
    "housing = fetch_california_housing()\n",
    "\n",
    "X_train_full, X_test, y_train_full, y_test = train_test_split(housing.data, housing.target, random_state=42)\n",
    "X_train, X_valid, y_train, y_valid = train_test_split(X_train_full, y_train_full, random_state=42)\n",
    "\n",
    "scaler = StandardScaler()\n",
    "X_train = scaler.fit_transform(X_train)\n",
    "X_valid = scaler.transform(X_valid)\n",
    "X_test = scaler.transform(X_test)"
   ]
  },
  {
   "cell_type": "code",
   "execution_count": 4,
   "metadata": {},
   "outputs": [
    {
     "name": "stdout",
     "output_type": "stream",
     "text": [
      "WARNING:tensorflow:From C:\\Users\\krupc\\AppData\\Roaming\\Python\\Python311\\site-packages\\keras\\src\\backend.py:1398: The name tf.executing_eagerly_outside_functions is deprecated. Please use tf.compat.v1.executing_eagerly_outside_functions instead.\n",
      "\n"
     ]
    }
   ],
   "source": [
    "input_ = tf.keras.layers.Input(shape=X_train.shape[1:])\n",
    "hidden1 = tf.keras.layers.Dense(30, activation=\"relu\")(input_)\n",
    "hidden2 = tf.keras.layers.Dense(30, activation=\"relu\")(hidden1)\n",
    "concat = tf.keras.layers.concatenate([input_, hidden2])\n",
    "output = tf.keras.layers.Dense(1)(concat)\n",
    "model = tf.keras.models.Model(inputs=[input_], outputs=[output])"
   ]
  },
  {
   "cell_type": "code",
   "execution_count": 5,
   "metadata": {},
   "outputs": [
    {
     "name": "stdout",
     "output_type": "stream",
     "text": [
      "Model: \"model\"\n",
      "__________________________________________________________________________________________________\n",
      " Layer (type)                Output Shape                 Param #   Connected to                  \n",
      "==================================================================================================\n",
      " input_1 (InputLayer)        [(None, 8)]                  0         []                            \n",
      "                                                                                                  \n",
      " dense (Dense)               (None, 30)                   270       ['input_1[0][0]']             \n",
      "                                                                                                  \n",
      " dense_1 (Dense)             (None, 30)                   930       ['dense[0][0]']               \n",
      "                                                                                                  \n",
      " concatenate (Concatenate)   (None, 38)                   0         ['input_1[0][0]',             \n",
      "                                                                     'dense_1[0][0]']             \n",
      "                                                                                                  \n",
      " dense_2 (Dense)             (None, 1)                    39        ['concatenate[0][0]']         \n",
      "                                                                                                  \n",
      "==================================================================================================\n",
      "Total params: 1239 (4.84 KB)\n",
      "Trainable params: 1239 (4.84 KB)\n",
      "Non-trainable params: 0 (0.00 Byte)\n",
      "__________________________________________________________________________________________________\n"
     ]
    }
   ],
   "source": [
    "model.summary()"
   ]
  },
  {
   "cell_type": "code",
   "execution_count": 7,
   "metadata": {},
   "outputs": [
    {
     "name": "stdout",
     "output_type": "stream",
     "text": [
      "Epoch 1/20\n",
      "WARNING:tensorflow:From C:\\Users\\krupc\\AppData\\Roaming\\Python\\Python311\\site-packages\\keras\\src\\utils\\tf_utils.py:492: The name tf.ragged.RaggedTensorValue is deprecated. Please use tf.compat.v1.ragged.RaggedTensorValue instead.\n",
      "\n",
      "363/363 [==============================] - 1s 924us/step - loss: 1.4713 - val_loss: 0.6618\n",
      "Epoch 2/20\n",
      "363/363 [==============================] - 0s 720us/step - loss: 0.6101 - val_loss: 0.5732\n",
      "Epoch 3/20\n",
      "363/363 [==============================] - 0s 730us/step - loss: 0.5543 - val_loss: 0.5099\n",
      "Epoch 4/20\n",
      "363/363 [==============================] - 0s 713us/step - loss: 0.5203 - val_loss: 0.4876\n",
      "Epoch 5/20\n",
      "363/363 [==============================] - 0s 729us/step - loss: 0.4955 - val_loss: 0.4664\n",
      "Epoch 6/20\n",
      "363/363 [==============================] - 0s 720us/step - loss: 0.4766 - val_loss: 0.4404\n",
      "Epoch 7/20\n",
      "363/363 [==============================] - 0s 707us/step - loss: 0.4614 - val_loss: 0.4311\n",
      "Epoch 8/20\n",
      "363/363 [==============================] - 0s 720us/step - loss: 0.4503 - val_loss: 0.4194\n",
      "Epoch 9/20\n",
      "363/363 [==============================] - 0s 720us/step - loss: 0.4405 - val_loss: 0.4244\n",
      "Epoch 10/20\n",
      "363/363 [==============================] - 0s 707us/step - loss: 0.4322 - val_loss: 0.4271\n",
      "Epoch 11/20\n",
      "363/363 [==============================] - 0s 783us/step - loss: 0.4257 - val_loss: 0.3983\n",
      "Epoch 12/20\n",
      "363/363 [==============================] - 0s 702us/step - loss: 0.4197 - val_loss: 0.4072\n",
      "Epoch 13/20\n",
      "363/363 [==============================] - 0s 698us/step - loss: 0.4144 - val_loss: 0.3930\n",
      "Epoch 14/20\n",
      "363/363 [==============================] - 0s 702us/step - loss: 0.4099 - val_loss: 0.3865\n",
      "Epoch 15/20\n",
      "363/363 [==============================] - 0s 756us/step - loss: 0.4056 - val_loss: 0.3886\n",
      "Epoch 16/20\n",
      "363/363 [==============================] - 0s 712us/step - loss: 0.4016 - val_loss: 0.3814\n",
      "Epoch 17/20\n",
      "363/363 [==============================] - 0s 697us/step - loss: 0.3986 - val_loss: 0.3749\n",
      "Epoch 18/20\n",
      "363/363 [==============================] - 0s 710us/step - loss: 0.3956 - val_loss: 0.3786\n",
      "Epoch 19/20\n",
      "363/363 [==============================] - 0s 699us/step - loss: 0.3924 - val_loss: 0.3749\n",
      "Epoch 20/20\n",
      "363/363 [==============================] - 0s 700us/step - loss: 0.3902 - val_loss: 0.3700\n",
      "162/162 [==============================] - 0s 482us/step - loss: 0.3859\n",
      "162/162 [==============================] - 0s 465us/step\n"
     ]
    }
   ],
   "source": [
    "model.compile(loss=\"mean_squared_error\", optimizer=tf.keras.optimizers.SGD(learning_rate=1e-3))\n",
    "history = model.fit(X_train, y_train, epochs=20,\n",
    "                    validation_data=(X_valid, y_valid))\n",
    "mse_test = model.evaluate(X_test, y_test)\n",
    "y_pred = model.predict(X_test)"
   ]
  },
  {
   "cell_type": "code",
   "execution_count": 8,
   "metadata": {},
   "outputs": [
    {
     "data": {
      "text/plain": [
       "array([[0.7359313],\n",
       "       [1.6403441],\n",
       "       [3.5067225],\n",
       "       ...,\n",
       "       [1.3074386],\n",
       "       [2.398773 ],\n",
       "       [3.8326006]], dtype=float32)"
      ]
     },
     "execution_count": 8,
     "metadata": {},
     "output_type": "execute_result"
    }
   ],
   "source": [
    "y_pred"
   ]
  }
 ],
 "metadata": {
  "kernelspec": {
   "display_name": "base",
   "language": "python",
   "name": "python3"
  },
  "language_info": {
   "codemirror_mode": {
    "name": "ipython",
    "version": 3
   },
   "file_extension": ".py",
   "mimetype": "text/x-python",
   "name": "python",
   "nbconvert_exporter": "python",
   "pygments_lexer": "ipython3",
   "version": "3.11.7"
  }
 },
 "nbformat": 4,
 "nbformat_minor": 2
}
